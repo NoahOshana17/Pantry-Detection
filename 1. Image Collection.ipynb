{
 "cells": [
  {
   "cell_type": "markdown",
   "metadata": {},
   "source": [
    "# 1. Import Dependencies"
   ]
  },
  {
   "cell_type": "code",
   "execution_count": 1,
   "metadata": {
    "scrolled": true
   },
   "outputs": [
    {
     "name": "stdout",
     "output_type": "stream",
     "text": [
      "Collecting opencv-python\n",
      "  Downloading opencv_python-4.6.0.66-cp36-abi3-win_amd64.whl (35.6 MB)\n",
      "     ---------------------------------------- 35.6/35.6 MB 4.2 MB/s eta 0:00:00\n",
      "Collecting numpy>=1.14.5\n",
      "  Downloading numpy-1.23.0-cp38-cp38-win_amd64.whl (14.7 MB)\n",
      "     ---------------------------------------- 14.7/14.7 MB 6.0 MB/s eta 0:00:00\n",
      "Installing collected packages: numpy, opencv-python\n",
      "Successfully installed numpy-1.23.0 opencv-python-4.6.0.66\n"
     ]
    }
   ],
   "source": [
    "!pip install opencv-python"
   ]
  },
  {
   "cell_type": "code",
   "execution_count": 1,
   "metadata": {},
   "outputs": [],
   "source": [
    "# Import opencv\n",
    "import cv2 \n",
    "\n",
    "# Import uuid\n",
    "import uuid\n",
    "\n",
    "# Import Operating System\n",
    "import os\n",
    "\n",
    "# Import time\n",
    "import time"
   ]
  },
  {
   "cell_type": "markdown",
   "metadata": {},
   "source": [
    "# 2. Define Images to Collect"
   ]
  },
  {
   "cell_type": "code",
   "execution_count": 2,
   "metadata": {},
   "outputs": [],
   "source": [
    "labels = ['Tomato_Sauce', 'Mayo', 'Ketchup', 'Paper_Towels', 'Canned_Tomato', 'Sugar']"
   ]
  },
  {
   "cell_type": "markdown",
   "metadata": {},
   "source": [
    "# 3. Setup Folders "
   ]
  },
  {
   "cell_type": "code",
   "execution_count": 3,
   "metadata": {},
   "outputs": [],
   "source": [
    "IMAGES_PATH = os.path.join('Tensorflow', 'workspace', 'images', 'collectedimages')"
   ]
  },
  {
   "cell_type": "code",
   "execution_count": 4,
   "metadata": {},
   "outputs": [],
   "source": [
    "if not os.path.exists(IMAGES_PATH):\n",
    "    if os.name == 'posix':\n",
    "        !mkdir -p {IMAGES_PATH}\n",
    "    if os.name == 'nt':\n",
    "         !mkdir {IMAGES_PATH}\n",
    "for label in labels:\n",
    "    path = os.path.join(IMAGES_PATH, label)\n",
    "    if not os.path.exists(path):\n",
    "        !mkdir {path}"
   ]
  },
  {
   "cell_type": "markdown",
   "metadata": {},
   "source": [
    "# 4. Capture Images"
   ]
  },
  {
   "cell_type": "code",
   "execution_count": 18,
   "metadata": {},
   "outputs": [
    {
     "name": "stdout",
     "output_type": "stream",
     "text": [
      "Collecting images for thumbsup\n",
      "Collecting image 0\n",
      "Collecting image 1\n",
      "Collecting image 2\n",
      "Collecting image 3\n",
      "Collecting image 4\n"
     ]
    }
   ],
   "source": [
    "for label in labels:\n",
    "    cap = cv2.VideoCapture(0)\n",
    "    print('Collecting images for {}'.format(label))\n",
    "    time.sleep(5)\n",
    "    for imgnum in range(number_imgs):\n",
    "        print('Collecting image {}'.format(imgnum))\n",
    "        ret, frame = cap.read()\n",
    "        imgname = os.path.join(IMAGES_PATH,label,label+'.'+'{}.jpg'.format(str(uuid.uuid1())))\n",
    "        cv2.imwrite(imgname, frame)\n",
    "        cv2.imshow('frame', frame)\n",
    "        time.sleep(2)\n",
    "\n",
    "        if cv2.waitKey(1) & 0xFF == ord('q'):\n",
    "            break\n",
    "cap.release()\n",
    "cv2.destroyAllWindows()"
   ]
  },
  {
   "cell_type": "markdown",
   "metadata": {},
   "source": [
    "# 5. Image Labelling"
   ]
  },
  {
   "cell_type": "code",
   "execution_count": 5,
   "metadata": {
    "scrolled": true
   },
   "outputs": [
    {
     "name": "stdout",
     "output_type": "stream",
     "text": [
      "Collecting pyqt5\n",
      "  Downloading PyQt5-5.15.7-cp37-abi3-win_amd64.whl (6.8 MB)\n",
      "     ---------------------------------------- 6.8/6.8 MB 7.0 MB/s eta 0:00:00\n",
      "Collecting lxml\n",
      "  Downloading lxml-4.9.0-cp38-cp38-win_amd64.whl (3.6 MB)\n",
      "     ---------------------------------------- 3.6/3.6 MB 5.0 MB/s eta 0:00:00\n",
      "Collecting PyQt5-Qt5>=5.15.0\n",
      "  Using cached PyQt5_Qt5-5.15.2-py3-none-win_amd64.whl (50.1 MB)\n",
      "Collecting PyQt5-sip<13,>=12.11\n",
      "  Downloading PyQt5_sip-12.11.0-cp38-cp38-win_amd64.whl (78 kB)\n",
      "     ---------------------------------------- 78.1/78.1 kB ? eta 0:00:00\n",
      "Installing collected packages: PyQt5-Qt5, PyQt5-sip, lxml, pyqt5\n",
      "Successfully installed PyQt5-Qt5-5.15.2 PyQt5-sip-12.11.0 lxml-4.9.0 pyqt5-5.15.7\n"
     ]
    }
   ],
   "source": [
    "!pip install --upgrade pyqt5 lxml"
   ]
  },
  {
   "cell_type": "code",
   "execution_count": 3,
   "metadata": {},
   "outputs": [],
   "source": [
    "LABELIMG_PATH = os.path.join('Tensorflow', 'labelimg')"
   ]
  },
  {
   "cell_type": "code",
   "execution_count": 6,
   "metadata": {},
   "outputs": [],
   "source": [
    "if not os.path.exists(LABELIMG_PATH):\n",
    "    !mkdir {LABELIMG_PATH}\n",
    "    !git clone https://github.com/tzutalin/labelImg {LABELIMG_PATH}"
   ]
  },
  {
   "cell_type": "code",
   "execution_count": 7,
   "metadata": {},
   "outputs": [],
   "source": [
    "if os.name == 'posix':\n",
    "    !make qt5py3\n",
    "if os.name =='nt':\n",
    "    !cd {LABELIMG_PATH} && pyrcc5 -o libs/resources.py resources.qrc"
   ]
  },
  {
   "cell_type": "code",
   "execution_count": 8,
   "metadata": {
    "scrolled": true
   },
   "outputs": [
    {
     "name": "stdout",
     "output_type": "stream",
     "text": [
      "Image:C:\\Users\\oshan\\OneDrive\\Object Detection\\TFODCourse\\Tensorflow\\workspace\\images\\collectedimages\\Canned_Tomato\\canned_tomato_63.jpg -> Annotation:C:/Users/oshan/OneDrive/Object Detection/TFODCourse/Tensorflow/workspace/images/collectedimages/Canned_Tomato/canned_tomato_63.xml\n",
      "Image:C:\\Users\\oshan\\OneDrive\\Object Detection\\TFODCourse\\Tensorflow\\workspace\\images\\collectedimages\\Canned_Tomato\\canned_tomato_64.jpg -> Annotation:C:/Users/oshan/OneDrive/Object Detection/TFODCourse/Tensorflow/workspace/images/collectedimages/Canned_Tomato/canned_tomato_64.xml\n",
      "Image:C:\\Users\\oshan\\OneDrive\\Object Detection\\TFODCourse\\Tensorflow\\workspace\\images\\collectedimages\\Canned_Tomato\\canned_tomato_65.jpg -> Annotation:C:/Users/oshan/OneDrive/Object Detection/TFODCourse/Tensorflow/workspace/images/collectedimages/Canned_Tomato/canned_tomato_65.xml\n",
      "Image:C:\\Users\\oshan\\OneDrive\\Object Detection\\TFODCourse\\Tensorflow\\workspace\\images\\collectedimages\\Canned_Tomato\\canned_tomato_66.jpg -> Annotation:C:/Users/oshan/OneDrive/Object Detection/TFODCourse/Tensorflow/workspace/images/collectedimages/Canned_Tomato/canned_tomato_66.xml\n",
      "Image:C:\\Users\\oshan\\OneDrive\\Object Detection\\TFODCourse\\Tensorflow\\workspace\\images\\collectedimages\\Canned_Tomato\\canned_tomato_67.jpg -> Annotation:C:/Users/oshan/OneDrive/Object Detection/TFODCourse/Tensorflow/workspace/images/collectedimages/Canned_Tomato/canned_tomato_67.xml\n",
      "Image:C:\\Users\\oshan\\OneDrive\\Object Detection\\TFODCourse\\Tensorflow\\workspace\\images\\collectedimages\\Ketchup\\ketchup_30.jpg -> Annotation:C:/Users/oshan/OneDrive/Object Detection/TFODCourse/Tensorflow/workspace/images/collectedimages/Ketchup/ketchup_30.xml\n",
      "Image:C:\\Users\\oshan\\OneDrive\\Object Detection\\TFODCourse\\Tensorflow\\workspace\\images\\collectedimages\\Ketchup\\ketchup_31.jpg -> Annotation:C:/Users/oshan/OneDrive/Object Detection/TFODCourse/Tensorflow/workspace/images/collectedimages/Ketchup/ketchup_31.xml\n",
      "Image:C:\\Users\\oshan\\OneDrive\\Object Detection\\TFODCourse\\Tensorflow\\workspace\\images\\collectedimages\\Ketchup\\ketchup_32.jpg -> Annotation:C:/Users/oshan/OneDrive/Object Detection/TFODCourse/Tensorflow/workspace/images/collectedimages/Ketchup/ketchup_32.xml\n",
      "Image:C:\\Users\\oshan\\OneDrive\\Object Detection\\TFODCourse\\Tensorflow\\workspace\\images\\collectedimages\\Ketchup\\ketchup_33.jpg -> Annotation:C:/Users/oshan/OneDrive/Object Detection/TFODCourse/Tensorflow/workspace/images/collectedimages/Ketchup/ketchup_33.xml\n",
      "Image:C:\\Users\\oshan\\OneDrive\\Object Detection\\TFODCourse\\Tensorflow\\workspace\\images\\collectedimages\\Ketchup\\ketchup_34.jpg -> Annotation:C:/Users/oshan/OneDrive/Object Detection/TFODCourse/Tensorflow/workspace/images/collectedimages/Ketchup/ketchup_34.xml\n",
      "Image:C:\\Users\\oshan\\OneDrive\\Object Detection\\TFODCourse\\Tensorflow\\workspace\\images\\collectedimages\\Ketchup\\ketchup_35.jpg -> Annotation:C:/Users/oshan/OneDrive/Object Detection/TFODCourse/Tensorflow/workspace/images/collectedimages/Ketchup/ketchup_35.xml\n",
      "Image:C:\\Users\\oshan\\OneDrive\\Object Detection\\TFODCourse\\Tensorflow\\workspace\\images\\collectedimages\\Ketchup\\ketchup_36.jpg -> Annotation:C:/Users/oshan/OneDrive/Object Detection/TFODCourse/Tensorflow/workspace/images/collectedimages/Ketchup/ketchup_36.xml\n",
      "Image:C:\\Users\\oshan\\OneDrive\\Object Detection\\TFODCourse\\Tensorflow\\workspace\\images\\collectedimages\\Ketchup\\ketchup_37.jpg -> Annotation:C:/Users/oshan/OneDrive/Object Detection/TFODCourse/Tensorflow/workspace/images/collectedimages/Ketchup/ketchup_37.xml\n",
      "Image:C:\\Users\\oshan\\OneDrive\\Object Detection\\TFODCourse\\Tensorflow\\workspace\\images\\collectedimages\\Ketchup\\ketchup_38.jpg -> Annotation:C:/Users/oshan/OneDrive/Object Detection/TFODCourse/Tensorflow/workspace/images/collectedimages/Ketchup/ketchup_38.xml\n",
      "Image:C:\\Users\\oshan\\OneDrive\\Object Detection\\TFODCourse\\Tensorflow\\workspace\\images\\collectedimages\\Ketchup\\ketchup_39.jpg -> Annotation:C:/Users/oshan/OneDrive/Object Detection/TFODCourse/Tensorflow/workspace/images/collectedimages/Ketchup/ketchup_39.xml\n",
      "Image:C:\\Users\\oshan\\OneDrive\\Object Detection\\TFODCourse\\Tensorflow\\workspace\\images\\collectedimages\\Ketchup\\ketchup_40.jpg -> Annotation:C:/Users/oshan/OneDrive/Object Detection/TFODCourse/Tensorflow/workspace/images/collectedimages/Ketchup/ketchup_40.xml\n",
      "Cancel creation.\n",
      "Image:C:\\Users\\oshan\\OneDrive\\Object Detection\\TFODCourse\\Tensorflow\\workspace\\images\\collectedimages\\Ketchup\\ketchup_41.jpg -> Annotation:C:/Users/oshan/OneDrive/Object Detection/TFODCourse/Tensorflow/workspace/images/collectedimages/Ketchup/ketchup_41.xml\n",
      "Image:C:\\Users\\oshan\\OneDrive\\Object Detection\\TFODCourse\\Tensorflow\\workspace\\images\\collectedimages\\Ketchup\\ketchup_42.jpg -> Annotation:C:/Users/oshan/OneDrive/Object Detection/TFODCourse/Tensorflow/workspace/images/collectedimages/Ketchup/ketchup_42.xml\n",
      "Image:C:\\Users\\oshan\\OneDrive\\Object Detection\\TFODCourse\\Tensorflow\\workspace\\images\\collectedimages\\Ketchup\\ketchup_43.jpg -> Annotation:C:/Users/oshan/OneDrive/Object Detection/TFODCourse/Tensorflow/workspace/images/collectedimages/Ketchup/ketchup_43.xml\n",
      "Image:C:\\Users\\oshan\\OneDrive\\Object Detection\\TFODCourse\\Tensorflow\\workspace\\images\\collectedimages\\Ketchup\\ketchup_44.jpg -> Annotation:C:/Users/oshan/OneDrive/Object Detection/TFODCourse/Tensorflow/workspace/images/collectedimages/Ketchup/ketchup_44.xml\n",
      "Cancel creation.\n",
      "Cancel creation.\n",
      "Cancel creation.\n",
      "Image:C:\\Users\\oshan\\OneDrive\\Object Detection\\TFODCourse\\Tensorflow\\workspace\\images\\collectedimages\\Ketchup\\ketchup_45.jpg -> Annotation:C:/Users/oshan/OneDrive/Object Detection/TFODCourse/Tensorflow/workspace/images/collectedimages/Ketchup/ketchup_45.xml\n",
      "Image:C:\\Users\\oshan\\OneDrive\\Object Detection\\TFODCourse\\Tensorflow\\workspace\\images\\collectedimages\\Ketchup\\ketchup_46.jpg -> Annotation:C:/Users/oshan/OneDrive/Object Detection/TFODCourse/Tensorflow/workspace/images/collectedimages/Ketchup/ketchup_46.xml\n",
      "Image:C:\\Users\\oshan\\OneDrive\\Object Detection\\TFODCourse\\Tensorflow\\workspace\\images\\collectedimages\\Ketchup\\ketchup_47.jpg -> Annotation:C:/Users/oshan/OneDrive/Object Detection/TFODCourse/Tensorflow/workspace/images/collectedimages/Ketchup/ketchup_47.xml\n",
      "Image:C:\\Users\\oshan\\OneDrive\\Object Detection\\TFODCourse\\Tensorflow\\workspace\\images\\collectedimages\\Ketchup\\ketchup_48.jpg -> Annotation:C:/Users/oshan/OneDrive/Object Detection/TFODCourse/Tensorflow/workspace/images/collectedimages/Ketchup/ketchup_48.xml\n",
      "Image:C:\\Users\\oshan\\OneDrive\\Object Detection\\TFODCourse\\Tensorflow\\workspace\\images\\collectedimages\\Ketchup\\ketchup_49.jpg -> Annotation:C:/Users/oshan/OneDrive/Object Detection/TFODCourse/Tensorflow/workspace/images/collectedimages/Ketchup/ketchup_49.xml\n",
      "Image:C:\\Users\\oshan\\OneDrive\\Object Detection\\TFODCourse\\Tensorflow\\workspace\\images\\collectedimages\\Ketchup\\ketchup_50.jpg -> Annotation:C:/Users/oshan/OneDrive/Object Detection/TFODCourse/Tensorflow/workspace/images/collectedimages/Ketchup/ketchup_50.xml\n",
      "Image:C:\\Users\\oshan\\OneDrive\\Object Detection\\TFODCourse\\Tensorflow\\workspace\\images\\collectedimages\\Ketchup\\ketchup_51.jpg -> Annotation:C:/Users/oshan/OneDrive/Object Detection/TFODCourse/Tensorflow/workspace/images/collectedimages/Ketchup/ketchup_51.xml\n",
      "Image:C:\\Users\\oshan\\OneDrive\\Object Detection\\TFODCourse\\Tensorflow\\workspace\\images\\collectedimages\\Ketchup\\ketchup_52.jpg -> Annotation:C:/Users/oshan/OneDrive/Object Detection/TFODCourse/Tensorflow/workspace/images/collectedimages/Ketchup/ketchup_52.xml\n",
      "Image:C:\\Users\\oshan\\OneDrive\\Object Detection\\TFODCourse\\Tensorflow\\workspace\\images\\collectedimages\\Ketchup\\ketchup_53.jpg -> Annotation:C:/Users/oshan/OneDrive/Object Detection/TFODCourse/Tensorflow/workspace/images/collectedimages/Ketchup/ketchup_53.xml\n",
      "Image:C:\\Users\\oshan\\OneDrive\\Object Detection\\TFODCourse\\Tensorflow\\workspace\\images\\collectedimages\\Ketchup\\ketchup_54.jpg -> Annotation:C:/Users/oshan/OneDrive/Object Detection/TFODCourse/Tensorflow/workspace/images/collectedimages/Ketchup/ketchup_54.xml\n",
      "Image:C:\\Users\\oshan\\OneDrive\\Object Detection\\TFODCourse\\Tensorflow\\workspace\\images\\collectedimages\\Ketchup\\ketchup_55.jpg -> Annotation:C:/Users/oshan/OneDrive/Object Detection/TFODCourse/Tensorflow/workspace/images/collectedimages/Ketchup/ketchup_55.xml\n",
      "Image:C:\\Users\\oshan\\OneDrive\\Object Detection\\TFODCourse\\Tensorflow\\workspace\\images\\collectedimages\\Ketchup\\ketchup_56.jpg -> Annotation:C:/Users/oshan/OneDrive/Object Detection/TFODCourse/Tensorflow/workspace/images/collectedimages/Ketchup/ketchup_56.xml\n",
      "Image:C:\\Users\\oshan\\OneDrive\\Object Detection\\TFODCourse\\Tensorflow\\workspace\\images\\collectedimages\\Ketchup\\ketchup_57.jpg -> Annotation:C:/Users/oshan/OneDrive/Object Detection/TFODCourse/Tensorflow/workspace/images/collectedimages/Ketchup/ketchup_57.xml\n",
      "Image:C:\\Users\\oshan\\OneDrive\\Object Detection\\TFODCourse\\Tensorflow\\workspace\\images\\collectedimages\\Ketchup\\ketchup_58.jpg -> Annotation:C:/Users/oshan/OneDrive/Object Detection/TFODCourse/Tensorflow/workspace/images/collectedimages/Ketchup/ketchup_58.xml\n",
      "Image:C:\\Users\\oshan\\OneDrive\\Object Detection\\TFODCourse\\Tensorflow\\workspace\\images\\collectedimages\\Ketchup\\ketchup_59.jpg -> Annotation:C:/Users/oshan/OneDrive/Object Detection/TFODCourse/Tensorflow/workspace/images/collectedimages/Ketchup/ketchup_59.xml\n",
      "Image:C:\\Users\\oshan\\OneDrive\\Object Detection\\TFODCourse\\Tensorflow\\workspace\\images\\collectedimages\\Ketchup\\ketchup_60.jpg -> Annotation:C:/Users/oshan/OneDrive/Object Detection/TFODCourse/Tensorflow/workspace/images/collectedimages/Ketchup/ketchup_60.xml\n",
      "Image:C:\\Users\\oshan\\OneDrive\\Object Detection\\TFODCourse\\Tensorflow\\workspace\\images\\collectedimages\\Ketchup\\ketchup_61.jpg -> Annotation:C:/Users/oshan/OneDrive/Object Detection/TFODCourse/Tensorflow/workspace/images/collectedimages/Ketchup/ketchup_61.xml\n",
      "Image:C:\\Users\\oshan\\OneDrive\\Object Detection\\TFODCourse\\Tensorflow\\workspace\\images\\collectedimages\\Ketchup\\ketchup_62.jpg -> Annotation:C:/Users/oshan/OneDrive/Object Detection/TFODCourse/Tensorflow/workspace/images/collectedimages/Ketchup/ketchup_62.xml\n",
      "Image:C:\\Users\\oshan\\OneDrive\\Object Detection\\TFODCourse\\Tensorflow\\workspace\\images\\collectedimages\\Ketchup\\ketchup_63.jpg -> Annotation:C:/Users/oshan/OneDrive/Object Detection/TFODCourse/Tensorflow/workspace/images/collectedimages/Ketchup/ketchup_63.xml\n",
      "Image:C:\\Users\\oshan\\OneDrive\\Object Detection\\TFODCourse\\Tensorflow\\workspace\\images\\collectedimages\\Mayo\\mayo_19.jpg -> Annotation:C:/Users/oshan/OneDrive/Object Detection/TFODCourse/Tensorflow/workspace/images/collectedimages/Mayo/mayo_19.xml\n",
      "Image:C:\\Users\\oshan\\OneDrive\\Object Detection\\TFODCourse\\Tensorflow\\workspace\\images\\collectedimages\\Mayo\\mayo_20.jpg -> Annotation:C:/Users/oshan/OneDrive/Object Detection/TFODCourse/Tensorflow/workspace/images/collectedimages/Mayo/mayo_20.xml\n",
      "Image:C:\\Users\\oshan\\OneDrive\\Object Detection\\TFODCourse\\Tensorflow\\workspace\\images\\collectedimages\\Mayo\\mayo_21.jpg -> Annotation:C:/Users/oshan/OneDrive/Object Detection/TFODCourse/Tensorflow/workspace/images/collectedimages/Mayo/mayo_21.xml\n",
      "Image:C:\\Users\\oshan\\OneDrive\\Object Detection\\TFODCourse\\Tensorflow\\workspace\\images\\collectedimages\\Mayo\\mayo_22.jpg -> Annotation:C:/Users/oshan/OneDrive/Object Detection/TFODCourse/Tensorflow/workspace/images/collectedimages/Mayo/mayo_22.xml\n",
      "Image:C:\\Users\\oshan\\OneDrive\\Object Detection\\TFODCourse\\Tensorflow\\workspace\\images\\collectedimages\\Mayo\\mayo_23.jpg -> Annotation:C:/Users/oshan/OneDrive/Object Detection/TFODCourse/Tensorflow/workspace/images/collectedimages/Mayo/mayo_23.xml\n",
      "Image:C:\\Users\\oshan\\OneDrive\\Object Detection\\TFODCourse\\Tensorflow\\workspace\\images\\collectedimages\\Mayo\\mayo_24.jpg -> Annotation:C:/Users/oshan/OneDrive/Object Detection/TFODCourse/Tensorflow/workspace/images/collectedimages/Mayo/mayo_24.xml\n",
      "Image:C:\\Users\\oshan\\OneDrive\\Object Detection\\TFODCourse\\Tensorflow\\workspace\\images\\collectedimages\\Mayo\\mayo_25.jpg -> Annotation:C:/Users/oshan/OneDrive/Object Detection/TFODCourse/Tensorflow/workspace/images/collectedimages/Mayo/mayo_25.xml\n",
      "Image:C:\\Users\\oshan\\OneDrive\\Object Detection\\TFODCourse\\Tensorflow\\workspace\\images\\collectedimages\\Mayo\\mayo_26.jpg -> Annotation:C:/Users/oshan/OneDrive/Object Detection/TFODCourse/Tensorflow/workspace/images/collectedimages/Mayo/mayo_26.xml\n",
      "Image:C:\\Users\\oshan\\OneDrive\\Object Detection\\TFODCourse\\Tensorflow\\workspace\\images\\collectedimages\\Mayo\\mayo_27.jpg -> Annotation:C:/Users/oshan/OneDrive/Object Detection/TFODCourse/Tensorflow/workspace/images/collectedimages/Mayo/mayo_27.xml\n",
      "Image:C:\\Users\\oshan\\OneDrive\\Object Detection\\TFODCourse\\Tensorflow\\workspace\\images\\collectedimages\\Mayo\\mayo_28.jpg -> Annotation:C:/Users/oshan/OneDrive/Object Detection/TFODCourse/Tensorflow/workspace/images/collectedimages/Mayo/mayo_28.xml\n",
      "Image:C:\\Users\\oshan\\OneDrive\\Object Detection\\TFODCourse\\Tensorflow\\workspace\\images\\collectedimages\\Mayo\\mayo_29.jpg -> Annotation:C:/Users/oshan/OneDrive/Object Detection/TFODCourse/Tensorflow/workspace/images/collectedimages/Mayo/mayo_29.xml\n",
      "Image:C:\\Users\\oshan\\OneDrive\\Object Detection\\TFODCourse\\Tensorflow\\workspace\\images\\collectedimages\\Mayo\\mayo_30.jpg -> Annotation:C:/Users/oshan/OneDrive/Object Detection/TFODCourse/Tensorflow/workspace/images/collectedimages/Mayo/mayo_30.xml\n",
      "Image:C:\\Users\\oshan\\OneDrive\\Object Detection\\TFODCourse\\Tensorflow\\workspace\\images\\collectedimages\\Mayo\\mayo_31.jpg -> Annotation:C:/Users/oshan/OneDrive/Object Detection/TFODCourse/Tensorflow/workspace/images/collectedimages/Mayo/mayo_31.xml\n",
      "Image:C:\\Users\\oshan\\OneDrive\\Object Detection\\TFODCourse\\Tensorflow\\workspace\\images\\collectedimages\\Mayo\\mayo_32.jpg -> Annotation:C:/Users/oshan/OneDrive/Object Detection/TFODCourse/Tensorflow/workspace/images/collectedimages/Mayo/mayo_32.xml\n",
      "Image:C:\\Users\\oshan\\OneDrive\\Object Detection\\TFODCourse\\Tensorflow\\workspace\\images\\collectedimages\\Mayo\\mayo_33.jpg -> Annotation:C:/Users/oshan/OneDrive/Object Detection/TFODCourse/Tensorflow/workspace/images/collectedimages/Mayo/mayo_33.xml\n",
      "Image:C:\\Users\\oshan\\OneDrive\\Object Detection\\TFODCourse\\Tensorflow\\workspace\\images\\collectedimages\\Mayo\\mayo_34.jpg -> Annotation:C:/Users/oshan/OneDrive/Object Detection/TFODCourse/Tensorflow/workspace/images/collectedimages/Mayo/mayo_34.xml\n",
      "Image:C:\\Users\\oshan\\OneDrive\\Object Detection\\TFODCourse\\Tensorflow\\workspace\\images\\collectedimages\\Mayo\\mayo_35.jpg -> Annotation:C:/Users/oshan/OneDrive/Object Detection/TFODCourse/Tensorflow/workspace/images/collectedimages/Mayo/mayo_35.xml\n",
      "Image:C:\\Users\\oshan\\OneDrive\\Object Detection\\TFODCourse\\Tensorflow\\workspace\\images\\collectedimages\\Mayo\\mayo_36.jpg -> Annotation:C:/Users/oshan/OneDrive/Object Detection/TFODCourse/Tensorflow/workspace/images/collectedimages/Mayo/mayo_36.xml\n"
     ]
    }
   ],
   "source": [
    "!cd {LABELIMG_PATH} && python labelImg.py"
   ]
  },
  {
   "cell_type": "markdown",
   "metadata": {},
   "source": [
    "# 6. Move them into a Training and Testing Partition"
   ]
  },
  {
   "cell_type": "markdown",
   "metadata": {},
   "source": [
    "# OPTIONAL - 7. Compress them for Colab Training"
   ]
  },
  {
   "cell_type": "code",
   "execution_count": 4,
   "metadata": {},
   "outputs": [],
   "source": [
    "TRAIN_PATH = os.path.join('Tensorflow', 'workspace', 'images', 'train')\n",
    "TEST_PATH = os.path.join('Tensorflow', 'workspace', 'images', 'test')\n",
    "ARCHIVE_PATH = os.path.join('Tensorflow', 'workspace', 'images', 'archive.tar.gz')"
   ]
  },
  {
   "cell_type": "code",
   "execution_count": 5,
   "metadata": {},
   "outputs": [],
   "source": [
    "!tar -czf {ARCHIVE_PATH} {TRAIN_PATH} {TEST_PATH}"
   ]
  },
  {
   "cell_type": "code",
   "execution_count": null,
   "metadata": {},
   "outputs": [],
   "source": []
  }
 ],
 "metadata": {
  "kernelspec": {
   "display_name": "tfod",
   "language": "python",
   "name": "tfod"
  },
  "language_info": {
   "codemirror_mode": {
    "name": "ipython",
    "version": 3
   },
   "file_extension": ".py",
   "mimetype": "text/x-python",
   "name": "python",
   "nbconvert_exporter": "python",
   "pygments_lexer": "ipython3",
   "version": "3.8.6"
  }
 },
 "nbformat": 4,
 "nbformat_minor": 2
}
