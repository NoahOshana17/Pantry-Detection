{
 "cells": [
  {
   "cell_type": "code",
   "execution_count": 1,
   "id": "7dad8bd9",
   "metadata": {},
   "outputs": [],
   "source": [
    "import os"
   ]
  },
  {
   "cell_type": "code",
   "execution_count": 24,
   "id": "7f173b3e",
   "metadata": {},
   "outputs": [],
   "source": [
    "PATH = 'C:/Users/oshan/OneDrive/Object Detection/TFODCourse/Tensorflow/workspace/images/collectedimages/Ketchup/'\n",
    "count = 0"
   ]
  },
  {
   "cell_type": "code",
   "execution_count": 25,
   "id": "ed6d6c02",
   "metadata": {},
   "outputs": [],
   "source": [
    "name = os.path.dirname(PATH)\n",
    "name2 = os.path.split(name)[1].lower()"
   ]
  },
  {
   "cell_type": "code",
   "execution_count": 28,
   "id": "82edcef5",
   "metadata": {},
   "outputs": [],
   "source": [
    "def rename(path, count):\n",
    "    for count, filename in enumerate(os.listdir(path)):\n",
    "        src = os.path.join(path, filename)\n",
    "        dst = os.path.join(path, name2 + '_' + f'{str(count + 30)}.jpg')\n",
    "        os.rename(src, dst)"
   ]
  },
  {
   "cell_type": "code",
   "execution_count": 29,
   "id": "53695f45",
   "metadata": {},
   "outputs": [],
   "source": [
    "rename(PATH, count)"
   ]
  },
  {
   "cell_type": "code",
   "execution_count": null,
   "id": "be314350",
   "metadata": {},
   "outputs": [],
   "source": []
  }
 ],
 "metadata": {
  "kernelspec": {
   "display_name": "tfod",
   "language": "python",
   "name": "tfod"
  },
  "language_info": {
   "codemirror_mode": {
    "name": "ipython",
    "version": 3
   },
   "file_extension": ".py",
   "mimetype": "text/x-python",
   "name": "python",
   "nbconvert_exporter": "python",
   "pygments_lexer": "ipython3",
   "version": "3.8.6"
  }
 },
 "nbformat": 4,
 "nbformat_minor": 5
}
