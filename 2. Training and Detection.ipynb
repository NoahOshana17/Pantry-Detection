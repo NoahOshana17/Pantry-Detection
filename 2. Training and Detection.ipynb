{
 "cells": [
  {
   "cell_type": "markdown",
   "metadata": {
    "id": "QUANWN3rpfC9"
   },
   "source": [
    "# 0. Setup Paths"
   ]
  },
  {
   "cell_type": "code",
   "execution_count": 1,
   "metadata": {
    "id": "146BB11JpfDA"
   },
   "outputs": [],
   "source": [
    "import os"
   ]
  },
  {
   "cell_type": "code",
   "execution_count": 2,
   "metadata": {
    "id": "42hJEdo_pfDB"
   },
   "outputs": [],
   "source": [
    "CUSTOM_MODEL_NAME = 'my_faster_rcnn_resnet101_v1_640x640' \n",
    "PRETRAINED_MODEL_NAME = 'faster_rcnn_resnet101_v1_640x640_coco17_tpu-8'\n",
    "PRETRAINED_MODEL_URL = 'http://download.tensorflow.org/models/object_detection/tf2/20200711/faster_rcnn_resnet101_v1_640x640_coco17_tpu-8.tar.gz'\n",
    "TF_RECORD_SCRIPT_NAME = 'generate_tfrecord.py'\n",
    "LABEL_MAP_NAME = 'label_map.pbtxt'"
   ]
  },
  {
   "cell_type": "code",
   "execution_count": 3,
   "metadata": {
    "id": "hbPhYVy_pfDB"
   },
   "outputs": [],
   "source": [
    "paths = {\n",
    "    'WORKSPACE_PATH': os.path.join('Tensorflow', 'workspace'),\n",
    "    'SCRIPTS_PATH': os.path.join('Tensorflow','scripts'),\n",
    "    'APIMODEL_PATH': os.path.join('Tensorflow','models'),\n",
    "    'ANNOTATION_PATH': os.path.join('Tensorflow', 'workspace','annotations'),\n",
    "    'IMAGE_PATH': os.path.join('Tensorflow', 'workspace','images'),\n",
    "    'MODEL_PATH': os.path.join('Tensorflow', 'workspace','models'),\n",
    "    'PRETRAINED_MODEL_PATH': os.path.join('Tensorflow', 'workspace','pre-trained-models'),\n",
    "    'CHECKPOINT_PATH': os.path.join('Tensorflow', 'workspace','models',CUSTOM_MODEL_NAME), \n",
    "    'OUTPUT_PATH': os.path.join('Tensorflow', 'workspace','models',CUSTOM_MODEL_NAME, 'export'), \n",
    "    'TFJS_PATH':os.path.join('Tensorflow', 'workspace','models',CUSTOM_MODEL_NAME, 'tfjsexport'), \n",
    "    'TFLITE_PATH':os.path.join('Tensorflow', 'workspace','models',CUSTOM_MODEL_NAME, 'tfliteexport'), \n",
    "    'PROTOC_PATH':os.path.join('Tensorflow','protoc')\n",
    " }"
   ]
  },
  {
   "cell_type": "code",
   "execution_count": 4,
   "metadata": {
    "id": "LwhWZMI0pfDC"
   },
   "outputs": [],
   "source": [
    "files = {\n",
    "    'PIPELINE_CONFIG':os.path.join('Tensorflow', 'workspace','models', CUSTOM_MODEL_NAME, 'pipeline.config'),\n",
    "    'TF_RECORD_SCRIPT': os.path.join(paths['SCRIPTS_PATH'], TF_RECORD_SCRIPT_NAME), \n",
    "    'LABELMAP': os.path.join(paths['ANNOTATION_PATH'], LABEL_MAP_NAME)\n",
    "}"
   ]
  },
  {
   "cell_type": "code",
   "execution_count": 5,
   "metadata": {
    "id": "HR-TfDGrpfDC"
   },
   "outputs": [],
   "source": [
    "for path in paths.values():\n",
    "    if not os.path.exists(path):\n",
    "        if os.name == 'posix':\n",
    "            !mkdir -p {path}\n",
    "        if os.name == 'nt':\n",
    "            !mkdir {path}"
   ]
  },
  {
   "cell_type": "markdown",
   "metadata": {
    "id": "OLU-rs_ipfDE"
   },
   "source": [
    "# 1. Download TF Models Pretrained Models from Tensorflow Model Zoo and Install TFOD"
   ]
  },
  {
   "cell_type": "code",
   "execution_count": 8,
   "metadata": {},
   "outputs": [],
   "source": [
    "# https://www.tensorflow.org/install/source_windows"
   ]
  },
  {
   "cell_type": "code",
   "execution_count": 9,
   "metadata": {
    "id": "K-Cmz2edpfDE",
    "scrolled": true
   },
   "outputs": [
    {
     "name": "stdout",
     "output_type": "stream",
     "text": [
      "Requirement already satisfied: wget in c:\\users\\oshan\\appdata\\local\\programs\\python\\python38\\lib\\site-packages (3.2)\n",
      "\n",
      "[notice] A new release of pip available: 22.1.2 -> 22.2\n",
      "[notice] To update, run: python.exe -m pip install --upgrade pip\n"
     ]
    }
   ],
   "source": [
    "if os.name=='nt':\n",
    "    !pip install wget\n",
    "    import wget"
   ]
  },
  {
   "cell_type": "code",
   "execution_count": 10,
   "metadata": {
    "id": "iA1DIq5OpfDE"
   },
   "outputs": [],
   "source": [
    "if not os.path.exists(os.path.join(paths['APIMODEL_PATH'], 'research', 'object_detection')):\n",
    "    !git clone https://github.com/tensorflow/models {paths['APIMODEL_PATH']}"
   ]
  },
  {
   "cell_type": "code",
   "execution_count": null,
   "metadata": {
    "id": "rJjMHbnDs3Tv"
   },
   "outputs": [
    {
     "name": "stdout",
     "output_type": "stream",
     "text": [
      "\r",
      "  0% [                                                                          ]       0 / 1468733\r",
      "  0% [                                                                          ]    8192 / 1468733\r",
      "  1% [                                                                          ]   16384 / 1468733\r",
      "  1% [.                                                                         ]   24576 / 1468733\r",
      "  2% [.                                                                         ]   32768 / 1468733\r",
      "  2% [..                                                                        ]   40960 / 1468733\r",
      "  3% [..                                                                        ]   49152 / 1468733\r",
      "  3% [..                                                                        ]   57344 / 1468733\r",
      "  4% [...                                                                       ]   65536 / 1468733\r",
      "  5% [...                                                                       ]   73728 / 1468733\r",
      "  5% [....                                                                      ]   81920 / 1468733\r",
      "  6% [....                                                                      ]   90112 / 1468733\r",
      "  6% [....                                                                      ]   98304 / 1468733\r",
      "  7% [.....                                                                     ]  106496 / 1468733\r",
      "  7% [.....                                                                     ]  114688 / 1468733\r",
      "  8% [......                                                                    ]  122880 / 1468733\r",
      "  8% [......                                                                    ]  131072 / 1468733\r",
      "  9% [.......                                                                   ]  139264 / 1468733\r",
      " 10% [.......                                                                   ]  147456 / 1468733\r",
      " 10% [.......                                                                   ]  155648 / 1468733\r",
      " 11% [........                                                                  ]  163840 / 1468733\r",
      " 11% [........                                                                  ]  172032 / 1468733\r",
      " 12% [.........                                                                 ]  180224 / 1468733\r",
      " 12% [.........                                                                 ]  188416 / 1468733\r",
      " 13% [.........                                                                 ]  196608 / 1468733\r",
      " 13% [..........                                                                ]  204800 / 1468733\r",
      " 14% [..........                                                                ]  212992 / 1468733\r",
      " 15% [...........                                                               ]  221184 / 1468733\r",
      " 15% [...........                                                               ]  229376 / 1468733\r",
      " 16% [...........                                                               ]  237568 / 1468733\r",
      " 16% [............                                                              ]  245760 / 1468733\r",
      " 17% [............                                                              ]  253952 / 1468733\r",
      " 17% [.............                                                             ]  262144 / 1468733\r",
      " 18% [.............                                                             ]  270336 / 1468733\r",
      " 18% [..............                                                            ]  278528 / 1468733\r",
      " 19% [..............                                                            ]  286720 / 1468733\r",
      " 20% [..............                                                            ]  294912 / 1468733\r",
      " 20% [...............                                                           ]  303104 / 1468733\r",
      " 21% [...............                                                           ]  311296 / 1468733\r",
      " 21% [................                                                          ]  319488 / 1468733\r",
      " 22% [................                                                          ]  327680 / 1468733\r",
      " 22% [................                                                          ]  335872 / 1468733\r",
      " 23% [.................                                                         ]  344064 / 1468733\r",
      " 23% [.................                                                         ]  352256 / 1468733\r",
      " 24% [..................                                                        ]  360448 / 1468733\r",
      " 25% [..................                                                        ]  368640 / 1468733\r",
      " 25% [..................                                                        ]  376832 / 1468733\r",
      " 26% [...................                                                       ]  385024 / 1468733\r",
      " 26% [...................                                                       ]  393216 / 1468733\r",
      " 27% [....................                                                      ]  401408 / 1468733\r",
      " 27% [....................                                                      ]  409600 / 1468733\r",
      " 28% [.....................                                                     ]  417792 / 1468733\r",
      " 29% [.....................                                                     ]  425984 / 1468733\r",
      " 29% [.....................                                                     ]  434176 / 1468733\r",
      " 30% [......................                                                    ]  442368 / 1468733\r",
      " 30% [......................                                                    ]  450560 / 1468733\r",
      " 31% [.......................                                                   ]  458752 / 1468733\r",
      " 31% [.......................                                                   ]  466944 / 1468733\r",
      " 32% [.......................                                                   ]  475136 / 1468733\r",
      " 32% [........................                                                  ]  483328 / 1468733\r",
      " 33% [........................                                                  ]  491520 / 1468733\r",
      " 34% [.........................                                                 ]  499712 / 1468733\r",
      " 34% [.........................                                                 ]  507904 / 1468733\r",
      " 35% [..........................                                                ]  516096 / 1468733\r",
      " 35% [..........................                                                ]  524288 / 1468733\r",
      " 36% [..........................                                                ]  532480 / 1468733\r",
      " 36% [...........................                                               ]  540672 / 1468733\r",
      " 37% [...........................                                               ]  548864 / 1468733\r",
      " 37% [............................                                              ]  557056 / 1468733\r",
      " 38% [............................                                              ]  565248 / 1468733\r",
      " 39% [............................                                              ]  573440 / 1468733\r",
      " 39% [.............................                                             ]  581632 / 1468733\r",
      " 40% [.............................                                             ]  589824 / 1468733\r",
      " 40% [..............................                                            ]  598016 / 1468733\r",
      " 41% [..............................                                            ]  606208 / 1468733\r",
      " 41% [..............................                                            ]  614400 / 1468733\r",
      " 42% [...............................                                           ]  622592 / 1468733\r",
      " 42% [...............................                                           ]  630784 / 1468733\r",
      " 43% [................................                                          ]  638976 / 1468733\r",
      " 44% [................................                                          ]  647168 / 1468733\r",
      " 44% [.................................                                         ]  655360 / 1468733\r",
      " 45% [.................................                                         ]  663552 / 1468733\r",
      " 45% [.................................                                         ]  671744 / 1468733\r",
      " 46% [..................................                                        ]  679936 / 1468733\r",
      " 46% [..................................                                        ]  688128 / 1468733\r",
      " 47% [...................................                                       ]  696320 / 1468733\r",
      " 47% [...................................                                       ]  704512 / 1468733\r",
      " 48% [...................................                                       ]  712704 / 1468733\r",
      " 49% [....................................                                      ]  720896 / 1468733\r",
      " 49% [....................................                                      ]  729088 / 1468733\r",
      " 50% [.....................................                                     ]  737280 / 1468733\r",
      " 50% [.....................................                                     ]  745472 / 1468733\r",
      " 51% [.....................................                                     ]  753664 / 1468733\r",
      " 51% [......................................                                    ]  761856 / 1468733\r",
      " 52% [......................................                                    ]  770048 / 1468733\r",
      " 52% [.......................................                                   ]  778240 / 1468733\r",
      " 53% [.......................................                                   ]  786432 / 1468733\r",
      " 54% [........................................                                  ]  794624 / 1468733\r",
      " 54% [........................................                                  ]  802816 / 1468733\r",
      " 55% [........................................                                  ]  811008 / 1468733\r",
      " 55% [.........................................                                 ]  819200 / 1468733\r",
      " 56% [.........................................                                 ]  827392 / 1468733\r",
      " 56% [..........................................                                ]  835584 / 1468733\r",
      " 57% [..........................................                                ]  843776 / 1468733\r",
      " 58% [..........................................                                ]  851968 / 1468733\r",
      " 58% [...........................................                               ]  860160 / 1468733\r",
      " 59% [...........................................                               ]  868352 / 1468733\r",
      " 59% [............................................                              ]  876544 / 1468733\r",
      " 60% [............................................                              ]  884736 / 1468733\r",
      " 60% [............................................                              ]  892928 / 1468733\r",
      " 61% [.............................................                             ]  901120 / 1468733\r",
      " 61% [.............................................                             ]  909312 / 1468733\r",
      " 62% [..............................................                            ]  917504 / 1468733\r",
      " 63% [..............................................                            ]  925696 / 1468733\r",
      " 63% [...............................................                           ]  933888 / 1468733\r",
      " 64% [...............................................                           ]  942080 / 1468733\r",
      " 64% [...............................................                           ]  950272 / 1468733\r",
      " 65% [................................................                          ]  958464 / 1468733\r",
      " 65% [................................................                          ]  966656 / 1468733\r",
      " 66% [.................................................                         ]  974848 / 1468733\r",
      " 66% [.................................................                         ]  983040 / 1468733\r",
      " 67% [.................................................                         ]  991232 / 1468733\r",
      " 68% [..................................................                        ]  999424 / 1468733\r",
      " 68% [..................................................                        ] 1007616 / 1468733\r",
      " 69% [...................................................                       ] 1015808 / 1468733\r",
      " 69% [...................................................                       ] 1024000 / 1468733\r",
      " 70% [....................................................                      ] 1032192 / 1468733\r",
      " 70% [....................................................                      ] 1040384 / 1468733\r",
      " 71% [....................................................                      ] 1048576 / 1468733\r",
      " 71% [.....................................................                     ] 1056768 / 1468733\r",
      " 72% [.....................................................                     ] 1064960 / 1468733\r",
      " 73% [......................................................                    ] 1073152 / 1468733\r",
      " 73% [......................................................                    ] 1081344 / 1468733\r",
      " 74% [......................................................                    ] 1089536 / 1468733\r",
      " 74% [.......................................................                   ] 1097728 / 1468733\r",
      " 75% [.......................................................                   ] 1105920 / 1468733\r",
      " 75% [........................................................                  ] 1114112 / 1468733\r",
      " 76% [........................................................                  ] 1122304 / 1468733\r",
      " 76% [........................................................                  ] 1130496 / 1468733\r",
      " 77% [.........................................................                 ] 1138688 / 1468733\r",
      " 78% [.........................................................                 ] 1146880 / 1468733\r",
      " 78% [..........................................................                ] 1155072 / 1468733\r",
      " 79% [..........................................................                ] 1163264 / 1468733\r",
      " 79% [...........................................................               ] 1171456 / 1468733\r",
      " 80% [...........................................................               ] 1179648 / 1468733\r",
      " 80% [...........................................................               ] 1187840 / 1468733\r",
      " 81% [............................................................              ] 1196032 / 1468733\r",
      " 81% [............................................................              ] 1204224 / 1468733\r",
      " 82% [.............................................................             ] 1212416 / 1468733\r",
      " 83% [.............................................................             ] 1220608 / 1468733\r",
      " 83% [.............................................................             ] 1228800 / 1468733\r",
      " 84% [..............................................................            ] 1236992 / 1468733\r",
      " 84% [..............................................................            ] 1245184 / 1468733\r",
      " 85% [...............................................................           ] 1253376 / 1468733\r",
      " 85% [...............................................................           ] 1261568 / 1468733\r",
      " 86% [...............................................................           ] 1269760 / 1468733\r",
      " 87% [................................................................          ] 1277952 / 1468733\r",
      " 87% [................................................................          ] 1286144 / 1468733\r",
      " 88% [.................................................................         ] 1294336 / 1468733\r",
      " 88% [.................................................................         ] 1302528 / 1468733\r",
      " 89% [..................................................................        ] 1310720 / 1468733\r",
      " 89% [..................................................................        ] 1318912 / 1468733\r",
      " 90% [..................................................................        ] 1327104 / 1468733\r",
      " 90% [...................................................................       ] 1335296 / 1468733\r",
      " 91% [...................................................................       ] 1343488 / 1468733\r",
      " 92% [....................................................................      ] 1351680 / 1468733\r",
      " 92% [....................................................................      ] 1359872 / 1468733\r",
      " 93% [....................................................................      ] 1368064 / 1468733\r",
      " 93% [.....................................................................     ] 1376256 / 1468733\r",
      " 94% [.....................................................................     ] 1384448 / 1468733\r",
      " 94% [......................................................................    ] 1392640 / 1468733\r",
      " 95% [......................................................................    ] 1400832 / 1468733\r",
      " 95% [......................................................................    ] 1409024 / 1468733\r",
      " 96% [.......................................................................   ] 1417216 / 1468733\r",
      " 97% [.......................................................................   ] 1425408 / 1468733\r",
      " 97% [........................................................................  ] 1433600 / 1468733\r",
      " 98% [........................................................................  ] 1441792 / 1468733\r",
      " 98% [......................................................................... ] 1449984 / 1468733\r",
      " 99% [......................................................................... ] 1458176 / 1468733\r",
      " 99% [......................................................................... ] 1466368 / 1468733\r",
      "100% [..........................................................................] 1468733 / 1468733"
     ]
    },
    {
     "name": "stdout",
     "output_type": "stream",
     "text": [
      "        1 file(s) moved.\n"
     ]
    }
   ],
   "source": [
    "# Install Tensorflow Object Detection \n",
    "if os.name=='posix':  \n",
    "    !apt-get install protobuf-compiler\n",
    "    !cd Tensorflow/models/research && protoc object_detection/protos/*.proto --python_out=. && cp object_detection/packages/tf2/setup.py . && python -m pip install . \n",
    "    \n",
    "if os.name=='nt':\n",
    "    url=\"https://github.com/protocolbuffers/protobuf/releases/download/v3.15.6/protoc-3.15.6-win64.zip\"\n",
    "    wget.download(url)\n",
    "    !move protoc-3.15.6-win64.zip {paths['PROTOC_PATH']}\n",
    "    !cd {paths['PROTOC_PATH']} && tar -xf protoc-3.15.6-win64.zip\n",
    "    os.environ['PATH'] += os.pathsep + os.path.abspath(os.path.join(paths['PROTOC_PATH'], 'bin'))   \n",
    "    !cd Tensorflow/models/research && protoc object_detection/protos/*.proto --python_out=. && copy object_detection\\\\packages\\\\tf2\\\\setup.py setup.py && python setup.py build && python setup.py install\n",
    "    !cd Tensorflow/models/research/slim && pip install -e . "
   ]
  },
  {
   "cell_type": "code",
   "execution_count": null,
   "metadata": {
    "scrolled": true
   },
   "outputs": [],
   "source": [
    "VERIFICATION_SCRIPT = os.path.join(paths['APIMODEL_PATH'], 'research', 'object_detection', 'builders', 'model_builder_tf2_test.py')\n",
    "# Verify Installation\n",
    "!python {VERIFICATION_SCRIPT}"
   ]
  },
  {
   "cell_type": "code",
   "execution_count": null,
   "metadata": {},
   "outputs": [],
   "source": [
    "!pip install tensorflow --upgrade"
   ]
  },
  {
   "cell_type": "code",
   "execution_count": null,
   "metadata": {
    "scrolled": true
   },
   "outputs": [],
   "source": [
    "!pip install pyyaml"
   ]
  },
  {
   "cell_type": "code",
   "execution_count": null,
   "metadata": {
    "scrolled": true
   },
   "outputs": [],
   "source": [
    "!pip uninstall protobuf matplotlib -y\n",
    "!pip install protobuf matplotlib==3.2"
   ]
  },
  {
   "cell_type": "code",
   "execution_count": null,
   "metadata": {},
   "outputs": [],
   "source": [
    "import object_detection"
   ]
  },
  {
   "cell_type": "code",
   "execution_count": 1,
   "metadata": {
    "scrolled": true
   },
   "outputs": [
    {
     "name": "stdout",
     "output_type": "stream",
     "text": [
      "Package                      Version     Editable project location\n",
      "---------------------------- ----------- -----------------------------------------------------------------------------------\n",
      "absl-py                      1.1.0\n",
      "apache-beam                  2.40.0rc2\n",
      "argon2-cffi                  21.3.0\n",
      "argon2-cffi-bindings         21.2.0\n",
      "asgiref                      3.3.4\n",
      "asttokens                    2.0.5\n",
      "astunparse                   1.6.3\n",
      "attrs                        21.4.0\n",
      "avro-python3                 1.10.2\n",
      "backcall                     0.2.0\n",
      "beautifulsoup4               4.11.1\n",
      "bleach                       5.0.0\n",
      "cachetools                   5.2.0\n",
      "certifi                      2020.12.5\n",
      "cffi                         1.15.0\n",
      "chardet                      3.0.4\n",
      "colorama                     0.4.5\n",
      "contextlib2                  21.6.0\n",
      "cycler                       0.11.0\n",
      "Cython                       3.0.0a10\n",
      "debugpy                      1.6.0\n",
      "decorator                    5.1.1\n",
      "defusedxml                   0.7.1\n",
      "Django                       3.2.3\n",
      "entrypoints                  0.4\n",
      "executing                    0.8.3\n",
      "fastjsonschema               2.15.3\n",
      "flatbuffers                  1.12\n",
      "gast                         0.4.0\n",
      "gin-config                   0.1.1\n",
      "google-auth                  2.8.0\n",
      "google-auth-oauthlib         0.4.6\n",
      "google-pasta                 0.2.0\n",
      "grpcio                       1.47.0\n",
      "h5py                         3.7.0\n",
      "idna                         2.10\n",
      "importlib-metadata           4.12.0\n",
      "importlib-resources          5.8.0\n",
      "ipykernel                    6.15.0\n",
      "ipython                      8.4.0\n",
      "ipython-genutils             0.2.0\n",
      "ipywidgets                   7.7.1\n",
      "jedi                         0.18.1\n",
      "Jinja2                       3.1.2\n",
      "jsonschema                   4.6.0\n",
      "jupyter                      1.0.0\n",
      "jupyter-client               7.3.4\n",
      "jupyter-console              6.4.4\n",
      "jupyter-core                 4.10.0\n",
      "jupyterlab-pygments          0.2.2\n",
      "jupyterlab-widgets           1.1.1\n",
      "keras                        2.9.0\n",
      "Keras-Preprocessing          1.1.2\n",
      "kiwisolver                   1.4.3\n",
      "libclang                     14.0.1\n",
      "lvis                         0.5.3\n",
      "lxml                         4.9.0\n",
      "Markdown                     3.3.7\n",
      "MarkupSafe                   2.1.1\n",
      "matplotlib                   3.5.2\n",
      "matplotlib-inline            0.1.3\n",
      "mistune                      0.8.4\n",
      "nbclient                     0.6.4\n",
      "nbconvert                    6.5.0\n",
      "nbformat                     5.4.0\n",
      "nest-asyncio                 1.5.5\n",
      "nose                         1.3.7\n",
      "notebook                     6.4.12\n",
      "numpy                        1.23.0\n",
      "oauthlib                     3.2.0\n",
      "object-detection             0.1\n",
      "opencv-python                4.6.0.66\n",
      "opt-einsum                   3.3.0\n",
      "packaging                    21.3\n",
      "pandas                       1.4.3\n",
      "pandocfilters                1.5.0\n",
      "parso                        0.8.3\n",
      "pickleshare                  0.7.5\n",
      "Pillow                       9.1.1\n",
      "pip                          22.1.2\n",
      "prometheus-client            0.14.1\n",
      "prompt-toolkit               3.0.29\n",
      "protobuf                     3.19.4\n",
      "psutil                       5.9.1\n",
      "pure-eval                    0.2.2\n",
      "pyasn1                       0.4.8\n",
      "pyasn1-modules               0.2.8\n",
      "PyAudio                      0.2.11\n",
      "pycocotools                  2.0.4\n",
      "pycparser                    2.21\n",
      "Pygments                     2.12.0\n",
      "pyparsing                    3.0.9\n",
      "PyQt5                        5.15.7\n",
      "PyQt5-Qt5                    5.15.2\n",
      "PyQt5-sip                    12.11.0\n",
      "pyrsistent                   0.18.1\n",
      "python-dateutil              2.8.2\n",
      "pytz                         2021.1\n",
      "pywin32                      304\n",
      "pywinpty                     2.0.5\n",
      "PyYAML                       6.0\n",
      "pyzmq                        23.2.0\n",
      "qtconsole                    5.3.1\n",
      "QtPy                         2.1.0\n",
      "requests                     2.25.0\n",
      "requests-oauthlib            1.3.1\n",
      "rsa                          4.8\n",
      "scipy                        1.9.0rc1\n",
      "Send2Trash                   1.8.0\n",
      "setuptools                   52.0.0\n",
      "six                          1.16.0\n",
      "slim                         0.1         c:\\users\\oshan\\onedrive\\object detection\\tfodcourse\\tensorflow\\models\\research\\slim\n",
      "soupsieve                    2.3.2.post1\n",
      "sqlparse                     0.4.1\n",
      "stack-data                   0.3.0\n",
      "tensorboard                  2.9.1\n",
      "tensorboard-data-server      0.6.1\n",
      "tensorboard-plugin-wit       1.8.1\n",
      "tensorflow                   2.9.1\n",
      "tensorflow-addons            0.17.1\n",
      "tensorflow-estimator         2.9.0\n",
      "tensorflow-gpu               2.9.1\n",
      "tensorflow-io                0.26.0\n",
      "tensorflow-io-gcs-filesystem 0.26.0\n",
      "tensorflow-text              2.9.0\n",
      "termcolor                    1.1.0\n",
      "terminado                    0.15.0\n",
      "tf-models-official           2.9.2\n",
      "tf-slim                      1.1.0\n",
      "tinycss2                     1.1.1\n",
      "tornado                      6.1\n",
      "traitlets                    5.3.0\n",
      "typeguard                    2.13.3\n",
      "typing_extensions            4.2.0\n",
      "urllib3                      1.26.2\n",
      "wcwidth                      0.2.5\n",
      "webencodings                 0.5.1\n",
      "Werkzeug                     2.1.2\n",
      "wget                         3.2\n",
      "wheel                        0.37.1\n",
      "widgetsnbextension           3.6.1\n",
      "wrapt                        1.14.1\n",
      "zipp                         3.8.0\n",
      "\n",
      "[notice] A new release of pip available: 22.1.2 -> 22.2\n",
      "[notice] To update, run: python.exe -m pip install --upgrade pip\n"
     ]
    }
   ],
   "source": [
    "!pip list"
   ]
  },
  {
   "cell_type": "code",
   "execution_count": null,
   "metadata": {
    "colab": {
     "base_uri": "https://localhost:8080/"
    },
    "id": "csofht2npfDE",
    "outputId": "ff5471b2-bed2-43f2-959c-327a706527b6"
   },
   "outputs": [],
   "source": [
    "if os.name =='posix':\n",
    "    !wget {PRETRAINED_MODEL_URL}\n",
    "    !mv {PRETRAINED_MODEL_NAME+'.tar.gz'} {paths['PRETRAINED_MODEL_PATH']}\n",
    "    !cd {paths['PRETRAINED_MODEL_PATH']} && tar -zxvf {PRETRAINED_MODEL_NAME+'.tar.gz'}\n",
    "if os.name == 'nt':\n",
    "    wget.download(PRETRAINED_MODEL_URL)\n",
    "    !move {PRETRAINED_MODEL_NAME+'.tar.gz'} {paths['PRETRAINED_MODEL_PATH']}\n",
    "    !cd {paths['PRETRAINED_MODEL_PATH']} && tar -zxvf {PRETRAINED_MODEL_NAME+'.tar.gz'}"
   ]
  },
  {
   "cell_type": "markdown",
   "metadata": {
    "id": "M5KJTnkfpfDC"
   },
   "source": [
    "# 2. Create Label Map"
   ]
  },
  {
   "cell_type": "code",
   "execution_count": 6,
   "metadata": {
    "id": "p1BVDWo7pfDC"
   },
   "outputs": [],
   "source": [
    "labels = [{'name':'Canned Tomato', 'id':1}, {'name':'Ketchup', 'id':2}, \n",
    "          {'name':'Mayo', 'id':3}, {'name':'Paper Towels', 'id':4}, \n",
    "          {'name':'Sugar', 'id':5}, {'name':'Tomato Sauce', 'id':6}]\n",
    "\n",
    "with open(files['LABELMAP'], 'w') as f:\n",
    "    for label in labels:\n",
    "        f.write('item { \\n')\n",
    "        f.write('\\tname:\\'{}\\'\\n'.format(label['name']))\n",
    "        f.write('\\tid:{}\\n'.format(label['id']))\n",
    "        f.write('}\\n')"
   ]
  },
  {
   "cell_type": "markdown",
   "metadata": {
    "id": "C88zyVELpfDC"
   },
   "source": [
    "# 3. Create TF records"
   ]
  },
  {
   "cell_type": "code",
   "execution_count": null,
   "metadata": {
    "colab": {
     "base_uri": "https://localhost:8080/"
    },
    "id": "kvf5WccwrFGq",
    "outputId": "49902aeb-0bd7-4298-e1a0-5b4a64eb2064"
   },
   "outputs": [],
   "source": [
    "# OPTIONAL IF RUNNING ON COLAB\n",
    "ARCHIVE_FILES = os.path.join(paths['IMAGE_PATH'], 'archive.tar.gz')\n",
    "if os.path.exists(ARCHIVE_FILES):\n",
    "  !tar -zxvf {ARCHIVE_FILES}"
   ]
  },
  {
   "cell_type": "code",
   "execution_count": null,
   "metadata": {
    "colab": {
     "base_uri": "https://localhost:8080/"
    },
    "id": "KWpb_BVUpfDD",
    "outputId": "56ce2a3f-3933-4ee6-8a9d-d5ec65f7d73c"
   },
   "outputs": [],
   "source": [
    "if not os.path.exists(files['TF_RECORD_SCRIPT']):\n",
    "    !git clone https://github.com/nicknochnack/GenerateTFRecord {paths['SCRIPTS_PATH']}"
   ]
  },
  {
   "cell_type": "code",
   "execution_count": null,
   "metadata": {
    "colab": {
     "base_uri": "https://localhost:8080/"
    },
    "id": "UPFToGZqpfDD",
    "outputId": "0ebb456f-aadc-4a1f-96e6-fbfec1923e1c",
    "scrolled": true
   },
   "outputs": [],
   "source": [
    "!python {files['TF_RECORD_SCRIPT']} -x {os.path.join(paths['IMAGE_PATH'], 'train')} -l {files['LABELMAP']} -o {os.path.join(paths['ANNOTATION_PATH'], 'train.record')} \n",
    "!python {files['TF_RECORD_SCRIPT']} -x {os.path.join(paths['IMAGE_PATH'], 'test')} -l {files['LABELMAP']} -o {os.path.join(paths['ANNOTATION_PATH'], 'test.record')} "
   ]
  },
  {
   "cell_type": "markdown",
   "metadata": {
    "id": "qT4QU7pLpfDE"
   },
   "source": [
    "# 4. Copy Model Config to Training Folder"
   ]
  },
  {
   "cell_type": "code",
   "execution_count": 183,
   "metadata": {
    "id": "cOjuTFbwpfDF"
   },
   "outputs": [
    {
     "name": "stdout",
     "output_type": "stream",
     "text": [
      "        1 file(s) copied.\n"
     ]
    }
   ],
   "source": [
    "if os.name =='posix':\n",
    "    !cp {os.path.join(paths['PRETRAINED_MODEL_PATH'], PRETRAINED_MODEL_NAME, 'pipeline.config')} {os.path.join(paths['CHECKPOINT_PATH'])}\n",
    "if os.name == 'nt':\n",
    "    !copy {os.path.join(paths['PRETRAINED_MODEL_PATH'], PRETRAINED_MODEL_NAME, 'pipeline.config')} {os.path.join(paths['CHECKPOINT_PATH'])}"
   ]
  },
  {
   "cell_type": "markdown",
   "metadata": {
    "id": "Ga8gpNslpfDF"
   },
   "source": [
    "# 5. Update Config For Transfer Learning"
   ]
  },
  {
   "cell_type": "code",
   "execution_count": 184,
   "metadata": {
    "id": "Z9hRrO_ppfDF"
   },
   "outputs": [],
   "source": [
    "import tensorflow as tf\n",
    "from object_detection.utils import config_util\n",
    "from object_detection.protos import pipeline_pb2\n",
    "from google.protobuf import text_format"
   ]
  },
  {
   "cell_type": "code",
   "execution_count": 185,
   "metadata": {
    "id": "c2A0mn4ipfDF",
    "scrolled": true
   },
   "outputs": [],
   "source": [
    "config = config_util.get_configs_from_pipeline_file(files['PIPELINE_CONFIG'])"
   ]
  },
  {
   "cell_type": "code",
   "execution_count": 186,
   "metadata": {
    "colab": {
     "base_uri": "https://localhost:8080/"
    },
    "id": "uQA13-afpfDF",
    "outputId": "907496a4-a39d-4b13-8c2c-e5978ecb1f10"
   },
   "outputs": [
    {
     "data": {
      "text/plain": [
       "{'model': ssd {\n",
       "   num_classes: 90\n",
       "   image_resizer {\n",
       "     keep_aspect_ratio_resizer {\n",
       "       min_dimension: 1408\n",
       "       max_dimension: 1408\n",
       "       pad_to_max_dimension: true\n",
       "     }\n",
       "   }\n",
       "   feature_extractor {\n",
       "     type: \"ssd_efficientnet-b6_bifpn_keras\"\n",
       "     conv_hyperparams {\n",
       "       regularizer {\n",
       "         l2_regularizer {\n",
       "           weight: 3.9999998989515007e-05\n",
       "         }\n",
       "       }\n",
       "       initializer {\n",
       "         truncated_normal_initializer {\n",
       "           mean: 0.0\n",
       "           stddev: 0.029999999329447746\n",
       "         }\n",
       "       }\n",
       "       activation: SWISH\n",
       "       batch_norm {\n",
       "         decay: 0.9900000095367432\n",
       "         scale: true\n",
       "         epsilon: 0.0010000000474974513\n",
       "       }\n",
       "       force_use_bias: true\n",
       "     }\n",
       "     bifpn {\n",
       "       min_level: 3\n",
       "       max_level: 7\n",
       "       num_iterations: 8\n",
       "       num_filters: 384\n",
       "       combine_method: \"sum\"\n",
       "     }\n",
       "   }\n",
       "   box_coder {\n",
       "     faster_rcnn_box_coder {\n",
       "       y_scale: 1.0\n",
       "       x_scale: 1.0\n",
       "       height_scale: 1.0\n",
       "       width_scale: 1.0\n",
       "     }\n",
       "   }\n",
       "   matcher {\n",
       "     argmax_matcher {\n",
       "       matched_threshold: 0.5\n",
       "       unmatched_threshold: 0.5\n",
       "       ignore_thresholds: false\n",
       "       negatives_lower_than_unmatched: true\n",
       "       force_match_for_each_row: true\n",
       "       use_matmul_gather: true\n",
       "     }\n",
       "   }\n",
       "   similarity_calculator {\n",
       "     iou_similarity {\n",
       "     }\n",
       "   }\n",
       "   box_predictor {\n",
       "     weight_shared_convolutional_box_predictor {\n",
       "       conv_hyperparams {\n",
       "         regularizer {\n",
       "           l2_regularizer {\n",
       "             weight: 3.9999998989515007e-05\n",
       "           }\n",
       "         }\n",
       "         initializer {\n",
       "           random_normal_initializer {\n",
       "             mean: 0.0\n",
       "             stddev: 0.009999999776482582\n",
       "           }\n",
       "         }\n",
       "         activation: SWISH\n",
       "         batch_norm {\n",
       "           decay: 0.9900000095367432\n",
       "           scale: true\n",
       "           epsilon: 0.0010000000474974513\n",
       "         }\n",
       "         force_use_bias: true\n",
       "       }\n",
       "       depth: 384\n",
       "       num_layers_before_predictor: 5\n",
       "       kernel_size: 3\n",
       "       class_prediction_bias_init: -4.599999904632568\n",
       "       use_depthwise: true\n",
       "     }\n",
       "   }\n",
       "   anchor_generator {\n",
       "     multiscale_anchor_generator {\n",
       "       min_level: 3\n",
       "       max_level: 7\n",
       "       anchor_scale: 4.0\n",
       "       aspect_ratios: 1.0\n",
       "       aspect_ratios: 2.0\n",
       "       aspect_ratios: 0.5\n",
       "       scales_per_octave: 3\n",
       "     }\n",
       "   }\n",
       "   post_processing {\n",
       "     batch_non_max_suppression {\n",
       "       score_threshold: 9.99999993922529e-09\n",
       "       iou_threshold: 0.5\n",
       "       max_detections_per_class: 100\n",
       "       max_total_detections: 100\n",
       "     }\n",
       "     score_converter: SIGMOID\n",
       "   }\n",
       "   normalize_loss_by_num_matches: true\n",
       "   loss {\n",
       "     localization_loss {\n",
       "       weighted_smooth_l1 {\n",
       "       }\n",
       "     }\n",
       "     classification_loss {\n",
       "       weighted_sigmoid_focal {\n",
       "         gamma: 1.5\n",
       "         alpha: 0.25\n",
       "       }\n",
       "     }\n",
       "     classification_weight: 1.0\n",
       "     localization_weight: 1.0\n",
       "   }\n",
       "   encode_background_as_zeros: true\n",
       "   normalize_loc_loss_by_codesize: true\n",
       "   inplace_batchnorm_update: true\n",
       "   freeze_batchnorm: false\n",
       "   add_background_class: false\n",
       " },\n",
       " 'train_config': batch_size: 128\n",
       " data_augmentation_options {\n",
       "   random_horizontal_flip {\n",
       "   }\n",
       " }\n",
       " data_augmentation_options {\n",
       "   random_scale_crop_and_pad_to_square {\n",
       "     output_size: 1408\n",
       "     scale_min: 0.10000000149011612\n",
       "     scale_max: 2.0\n",
       "   }\n",
       " }\n",
       " sync_replicas: true\n",
       " optimizer {\n",
       "   momentum_optimizer {\n",
       "     learning_rate {\n",
       "       cosine_decay_learning_rate {\n",
       "         learning_rate_base: 0.07999999821186066\n",
       "         total_steps: 300000\n",
       "         warmup_learning_rate: 0.0010000000474974513\n",
       "         warmup_steps: 2500\n",
       "       }\n",
       "     }\n",
       "     momentum_optimizer_value: 0.8999999761581421\n",
       "   }\n",
       "   use_moving_average: false\n",
       " }\n",
       " fine_tune_checkpoint: \"PATH_TO_BE_CONFIGURED\"\n",
       " num_steps: 300000\n",
       " startup_delay_steps: 0.0\n",
       " replicas_to_aggregate: 8\n",
       " max_number_of_boxes: 100\n",
       " unpad_groundtruth_tensors: false\n",
       " fine_tune_checkpoint_type: \"classification\"\n",
       " use_bfloat16: true\n",
       " fine_tune_checkpoint_version: V2,\n",
       " 'train_input_config': label_map_path: \"PATH_TO_BE_CONFIGURED/label_map.txt\"\n",
       " tf_record_input_reader {\n",
       "   input_path: \"PATH_TO_BE_CONFIGURED/train2017-?????-of-00256.tfrecord\"\n",
       " },\n",
       " 'eval_config': metrics_set: \"coco_detection_metrics\"\n",
       " use_moving_averages: false\n",
       " batch_size: 1,\n",
       " 'eval_input_configs': [label_map_path: \"PATH_TO_BE_CONFIGURED/label_map.txt\"\n",
       " shuffle: false\n",
       " num_epochs: 1\n",
       " tf_record_input_reader {\n",
       "   input_path: \"PATH_TO_BE_CONFIGURED/val2017-?????-of-00032.tfrecord\"\n",
       " }\n",
       " ],\n",
       " 'eval_input_config': label_map_path: \"PATH_TO_BE_CONFIGURED/label_map.txt\"\n",
       " shuffle: false\n",
       " num_epochs: 1\n",
       " tf_record_input_reader {\n",
       "   input_path: \"PATH_TO_BE_CONFIGURED/val2017-?????-of-00032.tfrecord\"\n",
       " }}"
      ]
     },
     "execution_count": 186,
     "metadata": {},
     "output_type": "execute_result"
    }
   ],
   "source": [
    "config"
   ]
  },
  {
   "cell_type": "code",
   "execution_count": 187,
   "metadata": {
    "id": "9vK5lotDpfDF"
   },
   "outputs": [],
   "source": [
    "pipeline_config = pipeline_pb2.TrainEvalPipelineConfig()\n",
    "with tf.io.gfile.GFile(files['PIPELINE_CONFIG'], \"r\") as f:                                                                                                                                                                                                                     \n",
    "    proto_str = f.read()                                                                                                                                                                                                                                          \n",
    "    text_format.Merge(proto_str, pipeline_config)  "
   ]
  },
  {
   "cell_type": "code",
   "execution_count": 188,
   "metadata": {
    "id": "rP43Ph0JpfDG"
   },
   "outputs": [],
   "source": [
    "pipeline_config.model.ssd.num_classes = len(labels)\n",
    "pipeline_config.train_config.batch_size = 4\n",
    "pipeline_config.train_config.fine_tune_checkpoint = os.path.join(paths['PRETRAINED_MODEL_PATH'], PRETRAINED_MODEL_NAME, 'checkpoint', 'ckpt-0')\n",
    "pipeline_config.train_config.fine_tune_checkpoint_type = \"detection\"\n",
    "pipeline_config.train_input_reader.label_map_path= files['LABELMAP']\n",
    "pipeline_config.train_input_reader.tf_record_input_reader.input_path[:] = [os.path.join(paths['ANNOTATION_PATH'], 'train.record')]\n",
    "pipeline_config.eval_input_reader[0].label_map_path = files['LABELMAP']\n",
    "pipeline_config.eval_input_reader[0].tf_record_input_reader.input_path[:] = [os.path.join(paths['ANNOTATION_PATH'], 'test.record')]"
   ]
  },
  {
   "cell_type": "code",
   "execution_count": 189,
   "metadata": {
    "id": "oJvfgwWqpfDG"
   },
   "outputs": [],
   "source": [
    "config_text = text_format.MessageToString(pipeline_config)                                                                                                                                                                                                        \n",
    "with tf.io.gfile.GFile(files['PIPELINE_CONFIG'], \"wb\") as f:                                                                                                                                                                                                                     \n",
    "    f.write(config_text)   "
   ]
  },
  {
   "cell_type": "markdown",
   "metadata": {
    "id": "Zr3ON7xMpfDG"
   },
   "source": [
    "# 6. Train the model"
   ]
  },
  {
   "cell_type": "code",
   "execution_count": 190,
   "metadata": {
    "id": "B-Y2UQmQpfDG"
   },
   "outputs": [],
   "source": [
    "TRAINING_SCRIPT = os.path.join(paths['APIMODEL_PATH'], 'research', 'object_detection', 'model_main_tf2.py')"
   ]
  },
  {
   "cell_type": "code",
   "execution_count": 191,
   "metadata": {
    "id": "jMP2XDfQpfDH"
   },
   "outputs": [],
   "source": [
    "command = \"python {} --model_dir={} --pipeline_config_path={} --num_train_steps=2000\".format(TRAINING_SCRIPT, paths['CHECKPOINT_PATH'],files['PIPELINE_CONFIG'])"
   ]
  },
  {
   "cell_type": "code",
   "execution_count": 192,
   "metadata": {
    "colab": {
     "base_uri": "https://localhost:8080/"
    },
    "id": "A4OXXi-ApfDH",
    "outputId": "117a0e83-012b-466e-b7a6-ccaa349ac5ab",
    "scrolled": false
   },
   "outputs": [
    {
     "name": "stdout",
     "output_type": "stream",
     "text": [
      "python Tensorflow\\models\\research\\object_detection\\model_main_tf2.py --model_dir=Tensorflow\\workspace\\models\\my_efficientdet_d6_coco17 --pipeline_config_path=Tensorflow\\workspace\\models\\my_efficientdet_d6_coco17\\pipeline.config --num_train_steps=2000\n"
     ]
    }
   ],
   "source": [
    "print(command)"
   ]
  },
  {
   "cell_type": "code",
   "execution_count": 29,
   "metadata": {},
   "outputs": [
    {
     "name": "stdout",
     "output_type": "stream",
     "text": [
      "Collecting gin\n",
      "  Downloading gin-0.1.006.tar.bz2 (3.0 kB)\n",
      "  Preparing metadata (setup.py): started\n",
      "  Preparing metadata (setup.py): finished with status 'done'\n",
      "Building wheels for collected packages: gin\n",
      "  Building wheel for gin (setup.py): started\n",
      "  Building wheel for gin (setup.py): finished with status 'done'\n",
      "  Created wheel for gin: filename=gin-0.1.6-py3-none-any.whl size=3385 sha256=92ed47cfa2402d330336065d87bf661d36f7b069cf2404b17422238d3e3cfca2\n",
      "  Stored in directory: c:\\users\\oshan\\appdata\\local\\pip\\cache\\wheels\\e4\\e1\\51\\3a7518c55dbec41fb6cd4735c941bd7125d2116d1982cc242c\n",
      "Successfully built gin\n",
      "Installing collected packages: gin\n",
      "Successfully installed gin-0.1.6\n"
     ]
    }
   ],
   "source": [
    "!pip install gin"
   ]
  },
  {
   "cell_type": "code",
   "execution_count": 28,
   "metadata": {
    "colab": {
     "base_uri": "https://localhost:8080/"
    },
    "id": "i3ZsJR-qpfDH",
    "outputId": "cabec5e1-45e6-4f2f-d9cf-297d9c1d0225"
   },
   "outputs": [
    {
     "name": "stderr",
     "output_type": "stream",
     "text": [
      "Traceback (most recent call last):\n",
      "  File \"Tensorflow\\models\\research\\object_detection\\model_main_tf2.py\", line 31, in <module>\n",
      "    from object_detection import model_lib_v2\n",
      "  File \"C:\\Users\\oshan\\AppData\\Local\\Programs\\Python\\Python38\\lib\\site-packages\\object_detection-0.1-py3.8.egg\\object_detection\\model_lib_v2.py\", line 31, in <module>\n",
      "    from object_detection import model_lib\n",
      "  File \"C:\\Users\\oshan\\AppData\\Local\\Programs\\Python\\Python38\\lib\\site-packages\\object_detection-0.1-py3.8.egg\\object_detection\\model_lib.py\", line 35, in <module>\n",
      "    from object_detection.builders import optimizer_builder\n",
      "  File \"C:\\Users\\oshan\\AppData\\Local\\Programs\\Python\\Python38\\lib\\site-packages\\object_detection-0.1-py3.8.egg\\object_detection\\builders\\optimizer_builder.py\", line 25, in <module>\n",
      "    from official.modeling.optimization import ema_optimizer\n",
      "  File \"C:\\Users\\oshan\\AppData\\Local\\Programs\\Python\\Python38\\lib\\site-packages\\tf_models_official-2.9.2-py3.8.egg\\official\\modeling\\optimization\\__init__.py\", line 23, in <module>\n",
      "    from official.modeling.optimization.optimizer_factory import OptimizerFactory\n",
      "  File \"C:\\Users\\oshan\\AppData\\Local\\Programs\\Python\\Python38\\lib\\site-packages\\tf_models_official-2.9.2-py3.8.egg\\official\\modeling\\optimization\\optimizer_factory.py\", line 18, in <module>\n",
      "    import gin\n",
      "ModuleNotFoundError: No module named 'gin'\n"
     ]
    }
   ],
   "source": [
    "!{command}"
   ]
  },
  {
   "cell_type": "markdown",
   "metadata": {
    "id": "4_YRZu7npfDH"
   },
   "source": [
    "# 7. Evaluate the Model"
   ]
  },
  {
   "cell_type": "code",
   "execution_count": 140,
   "metadata": {
    "id": "80L7-fdPpfDH"
   },
   "outputs": [],
   "source": [
    "command = \"python {} --model_dir={} --pipeline_config_path={} --checkpoint_dir={}\".format(TRAINING_SCRIPT, paths['CHECKPOINT_PATH'],files['PIPELINE_CONFIG'], paths['CHECKPOINT_PATH'])"
   ]
  },
  {
   "cell_type": "code",
   "execution_count": 141,
   "metadata": {
    "colab": {
     "base_uri": "https://localhost:8080/"
    },
    "id": "lYsgEPx9pfDH",
    "outputId": "8632d48b-91d2-45d9-bcb8-c1b172bf6eed"
   },
   "outputs": [
    {
     "name": "stdout",
     "output_type": "stream",
     "text": [
      "python Tensorflow\\models\\research\\object_detection\\model_main_tf2.py --model_dir=Tensorflow\\workspace\\models\\my_ssd_mobnet_640x640_tuned --pipeline_config_path=Tensorflow\\workspace\\models\\my_ssd_mobnet_640x640_tuned\\pipeline.config --checkpoint_dir=Tensorflow\\workspace\\models\\my_ssd_mobnet_640x640_tuned\n"
     ]
    }
   ],
   "source": [
    "print(command)"
   ]
  },
  {
   "cell_type": "code",
   "execution_count": 95,
   "metadata": {
    "id": "lqTV2jGBpfDH"
   },
   "outputs": [
    {
     "name": "stdout",
     "output_type": "stream",
     "text": [
      "^C\n"
     ]
    }
   ],
   "source": [
    "!{command}"
   ]
  },
  {
   "cell_type": "markdown",
   "metadata": {
    "id": "orvRk02UpfDI"
   },
   "source": [
    "# 8. Load Train Model From Checkpoint"
   ]
  },
  {
   "cell_type": "code",
   "execution_count": 7,
   "metadata": {
    "id": "8TYk4_oIpfDI"
   },
   "outputs": [],
   "source": [
    "import os\n",
    "import tensorflow as tf\n",
    "from object_detection.utils import label_map_util\n",
    "from object_detection.utils import visualization_utils as viz_utils\n",
    "from object_detection.builders import model_builder\n",
    "from object_detection.utils import config_util"
   ]
  },
  {
   "cell_type": "code",
   "execution_count": 8,
   "metadata": {
    "id": "tDnQg-cYpfDI"
   },
   "outputs": [],
   "source": [
    "# Load pipeline config and build a detection model\n",
    "configs = config_util.get_configs_from_pipeline_file(files['PIPELINE_CONFIG'])\n",
    "detection_model = model_builder.build(model_config=configs['model'], is_training=False)\n",
    "\n",
    "# Restore checkpoint\n",
    "ckpt = tf.compat.v2.train.Checkpoint(model=detection_model)\n",
    "ckpt.restore(os.path.join(paths['CHECKPOINT_PATH'], 'ckpt-11')).expect_partial()\n",
    "\n",
    "@tf.function\n",
    "def detect_fn(image):\n",
    "    image, shapes = detection_model.preprocess(image)\n",
    "    prediction_dict = detection_model.predict(image, shapes)\n",
    "    detections = detection_model.postprocess(prediction_dict, shapes)\n",
    "    return detections"
   ]
  },
  {
   "cell_type": "markdown",
   "metadata": {
    "id": "0EmsmbBZpfDI"
   },
   "source": [
    "# 9. Detect from an Image"
   ]
  },
  {
   "cell_type": "code",
   "execution_count": 9,
   "metadata": {
    "id": "Y_MKiuZ4pfDI"
   },
   "outputs": [],
   "source": [
    "import cv2 \n",
    "import numpy as np\n",
    "from matplotlib import pyplot as plt\n",
    "%matplotlib inline"
   ]
  },
  {
   "cell_type": "code",
   "execution_count": 10,
   "metadata": {
    "id": "cBDbIhNapfDI"
   },
   "outputs": [],
   "source": [
    "category_index = label_map_util.create_category_index_from_labelmap(files['LABELMAP'])"
   ]
  },
  {
   "cell_type": "code",
   "execution_count": 11,
   "metadata": {
    "id": "Lx3crOhOzITB"
   },
   "outputs": [
    {
     "data": {
      "text/plain": [
       "'Tensorflow\\\\workspace\\\\images\\\\test\\\\ketchup_29.jpg'"
      ]
     },
     "execution_count": 11,
     "metadata": {},
     "output_type": "execute_result"
    }
   ],
   "source": [
    "IMAGE_PATH = os.path.join(paths['IMAGE_PATH'], 'test', 'ketchup_29.jpg')\n",
    "IMAGE_PATH"
   ]
  },
  {
   "cell_type": "code",
   "execution_count": 12,
   "metadata": {
    "colab": {
     "base_uri": "https://localhost:8080/",
     "height": 269
    },
    "id": "Tpzn1SMry1yK",
    "outputId": "c392a2c5-10fe-4fc4-9998-a1d4c7db2bd3"
   },
   "outputs": [
    {
     "name": "stdout",
     "output_type": "stream",
     "text": [
      "INFO:tensorflow:depth of additional conv before box predictor: 0\n",
      "WARNING:tensorflow:From C:\\Users\\oshan\\AppData\\Roaming\\Python\\Python38\\site-packages\\tensorflow\\python\\autograph\\impl\\api.py:459: Tensor.experimental_ref (from tensorflow.python.framework.ops) is deprecated and will be removed in a future version.\n",
      "Instructions for updating:\n",
      "Use ref() instead.\n"
     ]
    },
    {
     "data": {
      "image/png": "[encoded data removed]",
      "text/plain": [
       "<Figure size 432x288 with 1 Axes>"
      ]
     },
     "metadata": {
      "needs_background": "light"
     },
     "output_type": "display_data"
    }
   ],
   "source": [
    "img = cv2.imread(IMAGE_PATH)\n",
    "image_np = np.array(img)\n",
    "\n",
    "input_tensor = tf.convert_to_tensor(np.expand_dims(image_np, 0), dtype=tf.float32)\n",
    "detections = detect_fn(input_tensor)\n",
    "\n",
    "num_detections = int(detections.pop('num_detections'))\n",
    "detections = {key: value[0, :num_detections].numpy()\n",
    "              for key, value in detections.items()}\n",
    "detections['num_detections'] = num_detections\n",
    "\n",
    "# detection_classes should be ints.\n",
    "detections['detection_classes'] = detections['detection_classes'].astype(np.int64)\n",
    "\n",
    "label_id_offset = 1\n",
    "image_np_with_detections = image_np.copy()\n",
    "\n",
    "viz_utils.visualize_boxes_and_labels_on_image_array(\n",
    "            image_np_with_detections,\n",
    "            detections['detection_boxes'],\n",
    "            detections['detection_classes']+label_id_offset,\n",
    "            detections['detection_scores'],\n",
    "            category_index,\n",
    "            use_normalized_coordinates=True,\n",
    "            max_boxes_to_draw=10,\n",
    "            min_score_thresh=.4,\n",
    "            agnostic_mode=False)\n",
    "\n",
    "plt.imshow(cv2.cvtColor(image_np_with_detections, cv2.COLOR_BGR2RGB))\n",
    "plt.show()"
   ]
  },
  {
   "cell_type": "markdown",
   "metadata": {
    "id": "IsNAaYAo0WVL"
   },
   "source": [
    "# 10. Real Time Detections from your Webcam"
   ]
  },
  {
   "cell_type": "code",
   "execution_count": 53,
   "metadata": {
    "scrolled": false
   },
   "outputs": [
    {
     "name": "stderr",
     "output_type": "stream",
     "text": [
      "WARNING: Skipping opencv-python-headless as it is not installed.\n"
     ]
    }
   ],
   "source": [
    "!pip uninstall opencv-python-headless -y"
   ]
  },
  {
   "cell_type": "code",
   "execution_count": 13,
   "metadata": {},
   "outputs": [],
   "source": [
    "import cv2\n",
    "import numpy as np"
   ]
  },
  {
   "cell_type": "code",
   "execution_count": 14,
   "metadata": {
    "id": "o_grs6OGpfDJ"
   },
   "outputs": [],
   "source": [
    "cap = cv2.VideoCapture(0)\n",
    "width = int(cap.get(cv2.CAP_PROP_FRAME_WIDTH))\n",
    "height = int(cap.get(cv2.CAP_PROP_FRAME_HEIGHT))\n",
    "\n",
    "while cap.isOpened(): \n",
    "    ret, frame = cap.read()\n",
    "    image_np = np.array(frame)\n",
    "    \n",
    "    input_tensor = tf.convert_to_tensor(np.expand_dims(image_np, 0), dtype=tf.float32)\n",
    "    detections = detect_fn(input_tensor)\n",
    "    \n",
    "    num_detections = int(detections.pop('num_detections'))\n",
    "    detections = {key: value[0, :num_detections].numpy()\n",
    "                  for key, value in detections.items()}\n",
    "    detections['num_detections'] = num_detections\n",
    "\n",
    "    # detection_classes should be ints.\n",
    "    detections['detection_classes'] = detections['detection_classes'].astype(np.int64)\n",
    "\n",
    "    label_id_offset = 1\n",
    "    image_np_with_detections = image_np.copy()\n",
    "\n",
    "    viz_utils.visualize_boxes_and_labels_on_image_array(\n",
    "                image_np_with_detections,\n",
    "                detections['detection_boxes'],\n",
    "                detections['detection_classes']+label_id_offset,\n",
    "                detections['detection_scores'],\n",
    "                category_index,\n",
    "                use_normalized_coordinates=True,\n",
    "                max_boxes_to_draw=5,\n",
    "                min_score_thresh=.5,\n",
    "                agnostic_mode=False)\n",
    "\n",
    "    cv2.imshow('object detection',  cv2.resize(image_np_with_detections, (800, 600)))\n",
    "    \n",
    "    if cv2.waitKey(10) & 0xFF == ord('q'):\n",
    "        cap.release()\n",
    "        cv2.destroyAllWindows()\n",
    "        break"
   ]
  },
  {
   "cell_type": "markdown",
   "metadata": {
    "id": "rzlM4jt0pfDJ"
   },
   "source": [
    "# 10. Freezing the Graph"
   ]
  },
  {
   "cell_type": "code",
   "execution_count": 15,
   "metadata": {
    "id": "n4olHB2npfDJ"
   },
   "outputs": [],
   "source": [
    "FREEZE_SCRIPT = os.path.join(paths['APIMODEL_PATH'], 'research', 'object_detection', 'exporter_main_v2.py ')"
   ]
  },
  {
   "cell_type": "code",
   "execution_count": 16,
   "metadata": {
    "id": "0AjO93QDpfDJ"
   },
   "outputs": [],
   "source": [
    "command = \"python {} --input_type=image_tensor --pipeline_config_path={} --trained_checkpoint_dir={} --output_directory={}\".format(FREEZE_SCRIPT ,files['PIPELINE_CONFIG'], paths['CHECKPOINT_PATH'], paths['OUTPUT_PATH'])"
   ]
  },
  {
   "cell_type": "code",
   "execution_count": 17,
   "metadata": {
    "colab": {
     "base_uri": "https://localhost:8080/"
    },
    "id": "F6Lsp3tCpfDJ",
    "outputId": "c3828529-bf06-4df5-d7f3-145890ec3edd"
   },
   "outputs": [
    {
     "name": "stdout",
     "output_type": "stream",
     "text": [
      "python Tensorflow\\models\\research\\object_detection\\exporter_main_v2.py  --input_type=image_tensor --pipeline_config_path=Tensorflow\\workspace\\models\\my_faster_rcnn_resnet101_v1_640x640\\pipeline.config --trained_checkpoint_dir=Tensorflow\\workspace\\models\\my_faster_rcnn_resnet101_v1_640x640 --output_directory=Tensorflow\\workspace\\models\\my_faster_rcnn_resnet101_v1_640x640\\export\n"
     ]
    }
   ],
   "source": [
    "print(command)"
   ]
  },
  {
   "cell_type": "code",
   "execution_count": 18,
   "metadata": {
    "colab": {
     "base_uri": "https://localhost:8080/"
    },
    "id": "1Sw1ULgHpfDJ",
    "outputId": "6fd441e1-9fc9-4889-d072-3395c21e40b6"
   },
   "outputs": [
    {
     "name": "stderr",
     "output_type": "stream",
     "text": [
      "2022-07-25 14:23:37.382151: I tensorflow/core/platform/cpu_feature_guard.cc:193] This TensorFlow binary is optimized with oneAPI Deep Neural Network Library (oneDNN) to use the following CPU instructions in performance-critical operations:  AVX AVX2\n",
      "To enable them in other operations, rebuild TensorFlow with the appropriate compiler flags.\n",
      "2022-07-25 14:23:37.917634: I tensorflow/core/common_runtime/gpu/gpu_device.cc:1532] Created device /job:localhost/replica:0/task:0/device:GPU:0 with 5801 MB memory:  -> device: 0, name: NVIDIA GeForce RTX 2060 SUPER, pci bus id: 0000:26:00.0, compute capability: 7.5\n",
      "WARNING:tensorflow:From C:\\Users\\oshan\\AppData\\Roaming\\Python\\Python38\\site-packages\\tensorflow\\python\\autograph\\impl\\api.py:458: calling map_fn_v2 (from tensorflow.python.ops.map_fn) with back_prop=False is deprecated and will be removed in a future version.\n",
      "Instructions for updating:\n",
      "back_prop=False is deprecated. Consider using tf.stop_gradient instead.\n",
      "Instead of:\n",
      "results = tf.map_fn(fn, elems, back_prop=False)\n",
      "Use:\n",
      "results = tf.nest.map_structure(tf.stop_gradient, tf.map_fn(fn, elems))\n",
      "W0725 14:23:40.518792 13480 deprecation.py:623] From C:\\Users\\oshan\\AppData\\Roaming\\Python\\Python38\\site-packages\\tensorflow\\python\\autograph\\impl\\api.py:458: calling map_fn_v2 (from tensorflow.python.ops.map_fn) with back_prop=False is deprecated and will be removed in a future version.\n",
      "Instructions for updating:\n",
      "back_prop=False is deprecated. Consider using tf.stop_gradient instead.\n",
      "Instead of:\n",
      "results = tf.map_fn(fn, elems, back_prop=False)\n",
      "Use:\n",
      "results = tf.nest.map_structure(tf.stop_gradient, tf.map_fn(fn, elems))\n",
      "INFO:tensorflow:depth of additional conv before box predictor: 0\n",
      "I0725 14:23:50.563279 13480 convolutional_keras_box_predictor.py:152] depth of additional conv before box predictor: 0\n",
      "WARNING:tensorflow:From C:\\Users\\oshan\\AppData\\Roaming\\Python\\Python38\\site-packages\\tensorflow\\python\\autograph\\impl\\api.py:459: Tensor.experimental_ref (from tensorflow.python.framework.ops) is deprecated and will be removed in a future version.\n",
      "Instructions for updating:\n",
      "Use ref() instead.\n",
      "W0725 14:23:58.971237 13480 deprecation.py:350] From C:\\Users\\oshan\\AppData\\Roaming\\Python\\Python38\\site-packages\\tensorflow\\python\\autograph\\impl\\api.py:459: Tensor.experimental_ref (from tensorflow.python.framework.ops) is deprecated and will be removed in a future version.\n",
      "Instructions for updating:\n",
      "Use ref() instead.\n",
      "WARNING:tensorflow:Skipping full serialization of Keras layer <object_detection.meta_architectures.faster_rcnn_meta_arch.FasterRCNNMetaArch object at 0x000001E375904730>, because it is not built.\n",
      "W0725 14:24:18.198326 13480 save_impl.py:71] Skipping full serialization of Keras layer <object_detection.meta_architectures.faster_rcnn_meta_arch.FasterRCNNMetaArch object at 0x000001E375904730>, because it is not built.\n",
      "W0725 14:24:38.245620 13480 save.py:233] Found untraced functions such as FirstStageBoxPredictor_layer_call_fn, FirstStageBoxPredictor_layer_call_and_return_conditional_losses, mask_rcnn_keras_box_predictor_layer_call_fn, mask_rcnn_keras_box_predictor_layer_call_and_return_conditional_losses, _jit_compiled_convolution_op while saving (showing 5 of 135). These functions will not be directly callable after loading.\n",
      "INFO:tensorflow:Assets written to: Tensorflow\\workspace\\models\\my_faster_rcnn_resnet101_v1_640x640\\export\\saved_model\\assets\n",
      "I0725 14:24:51.473852 13480 builder_impl.py:779] Assets written to: Tensorflow\\workspace\\models\\my_faster_rcnn_resnet101_v1_640x640\\export\\saved_model\\assets\n",
      "INFO:tensorflow:Writing pipeline config file to Tensorflow\\workspace\\models\\my_faster_rcnn_resnet101_v1_640x640\\export\\pipeline.config\n",
      "I0725 14:24:52.903169 13480 config_util.py:253] Writing pipeline config file to Tensorflow\\workspace\\models\\my_faster_rcnn_resnet101_v1_640x640\\export\\pipeline.config\n"
     ]
    }
   ],
   "source": [
    "!{command}"
   ]
  },
  {
   "cell_type": "markdown",
   "metadata": {
    "id": "wTPmdqaXpfDK"
   },
   "source": [
    "# 11. Conversion to TFJS"
   ]
  },
  {
   "cell_type": "code",
   "execution_count": null,
   "metadata": {
    "colab": {
     "base_uri": "https://localhost:8080/"
    },
    "id": "gZ6UzY_fpfDK",
    "outputId": "0c84722e-1c2b-4002-d857-80827ade828a",
    "scrolled": true
   },
   "outputs": [],
   "source": [
    "!pip install tensorflowjs"
   ]
  },
  {
   "cell_type": "code",
   "execution_count": null,
   "metadata": {
    "id": "0oxbVynHpfDK"
   },
   "outputs": [],
   "source": [
    "command = \"tensorflowjs_converter --input_format=tf_saved_model --output_node_names='detection_boxes,detection_classes,detection_features,detection_multiclass_scores,detection_scores,num_detections,raw_detection_boxes,raw_detection_scores' --output_format=tfjs_graph_model --signature_name=serving_default {} {}\".format(os.path.join(paths['OUTPUT_PATH'], 'saved_model'), paths['TFJS_PATH'])"
   ]
  },
  {
   "cell_type": "code",
   "execution_count": null,
   "metadata": {
    "colab": {
     "base_uri": "https://localhost:8080/"
    },
    "id": "DB2AGNmJpfDK",
    "outputId": "fbc9f747-f511-47e8-df8f-5ea65cef0374"
   },
   "outputs": [],
   "source": [
    "print(command)"
   ]
  },
  {
   "cell_type": "code",
   "execution_count": null,
   "metadata": {
    "colab": {
     "base_uri": "https://localhost:8080/"
    },
    "id": "K7rfT4-hpfDK",
    "outputId": "532707fd-6feb-4bc6-84a3-325b5d16303c"
   },
   "outputs": [],
   "source": [
    "!{command}"
   ]
  },
  {
   "cell_type": "code",
   "execution_count": null,
   "metadata": {
    "id": "o8_hm-itpfDK"
   },
   "outputs": [],
   "source": [
    "# Test Code: https://github.com/nicknochnack/RealTimeSignLanguageDetectionwithTFJS"
   ]
  },
  {
   "cell_type": "markdown",
   "metadata": {
    "id": "VtUw73FHpfDK"
   },
   "source": [
    "# 12. Conversion to TFLite"
   ]
  },
  {
   "cell_type": "code",
   "execution_count": 19,
   "metadata": {
    "id": "XviMtewLpfDK"
   },
   "outputs": [],
   "source": [
    "TFLITE_SCRIPT = os.path.join(paths['APIMODEL_PATH'], 'research', 'object_detection', 'export_tflite_graph_tf2.py ')"
   ]
  },
  {
   "cell_type": "code",
   "execution_count": 20,
   "metadata": {
    "id": "us86cjC4pfDL"
   },
   "outputs": [],
   "source": [
    "command = \"python {} --pipeline_config_path={} --trained_checkpoint_dir={} --output_directory={}\".format(TFLITE_SCRIPT ,files['PIPELINE_CONFIG'], paths['CHECKPOINT_PATH'], paths['TFLITE_PATH'])"
   ]
  },
  {
   "cell_type": "code",
   "execution_count": 21,
   "metadata": {
    "colab": {
     "base_uri": "https://localhost:8080/"
    },
    "id": "n1r5YO3rpfDL",
    "outputId": "5fcdf7a4-eee2-4365-f1ca-1751968379ea"
   },
   "outputs": [
    {
     "name": "stdout",
     "output_type": "stream",
     "text": [
      "python Tensorflow\\models\\research\\object_detection\\export_tflite_graph_tf2.py  --pipeline_config_path=Tensorflow\\workspace\\models\\my_faster_rcnn_resnet101_v1_640x640\\pipeline.config --trained_checkpoint_dir=Tensorflow\\workspace\\models\\my_faster_rcnn_resnet101_v1_640x640 --output_directory=Tensorflow\\workspace\\models\\my_faster_rcnn_resnet101_v1_640x640\\tfliteexport\n"
     ]
    }
   ],
   "source": [
    "print(command)"
   ]
  },
  {
   "cell_type": "code",
   "execution_count": 22,
   "metadata": {
    "colab": {
     "base_uri": "https://localhost:8080/"
    },
    "id": "I-xWpHN8pfDL",
    "outputId": "7f6bacd8-d077-43b5-c131-5b081fba24a4"
   },
   "outputs": [
    {
     "name": "stderr",
     "output_type": "stream",
     "text": [
      "Traceback (most recent call last):\n",
      "  File \"Tensorflow\\models\\research\\object_detection\\export_tflite_graph_tf2.py\", line 160, in <module>\n",
      "    app.run(main)\n",
      "  File \"C:\\Users\\oshan\\AppData\\Local\\Programs\\Python\\Python38\\lib\\site-packages\\absl\\app.py\", line 312, in run\n",
      "    _run_main(main, args)\n",
      "  File \"C:\\Users\\oshan\\AppData\\Local\\Programs\\Python\\Python38\\lib\\site-packages\\absl\\app.py\", line 258, in _run_main\n",
      "    sys.exit(main(argv))\n",
      "  File \"Tensorflow\\models\\research\\object_detection\\export_tflite_graph_tf2.py\", line 153, in main\n",
      "    export_tflite_graph_lib_tf2.export_tflite_model(\n",
      "  File \"C:\\Users\\oshan\\AppData\\Local\\Programs\\Python\\Python38\\lib\\site-packages\\object_detection-0.1-py3.8.egg\\object_detection\\export_tflite_graph_lib_tf2.py\", line 354, in export_tflite_model\n",
      "    raise ValueError('Only ssd or center_net models are supported in tflite. '\n",
      "ValueError: Only ssd or center_net models are supported in tflite. Found faster_rcnn in config\n"
     ]
    }
   ],
   "source": [
    "!{command}"
   ]
  },
  {
   "cell_type": "code",
   "execution_count": null,
   "metadata": {
    "id": "iJfYMbN6pfDL"
   },
   "outputs": [],
   "source": [
    "FROZEN_TFLITE_PATH = os.path.join(paths['TFLITE_PATH'], 'saved_model')\n",
    "TFLITE_MODEL = os.path.join(paths['TFLITE_PATH'], 'saved_model', 'detect.tflite')"
   ]
  },
  {
   "cell_type": "code",
   "execution_count": null,
   "metadata": {},
   "outputs": [],
   "source": [
    "command = \"tflite_convert \\\n",
    "--saved_model_dir={} \\\n",
    "--output_file={} \\\n",
    "--input_shapes=1,300,300,3 \\\n",
    "--input_arrays=normalized_input_image_tensor \\\n",
    "--output_arrays='TFLite_Detection_PostProcess','TFLite_Detection_PostProcess:1','TFLite_Detection_PostProcess:2','TFLite_Detection_PostProcess:3' \\\n",
    "--inference_type=FLOAT \\\n",
    "--allow_custom_ops\".format(FROZEN_TFLITE_PATH, TFLITE_MODEL, )"
   ]
  },
  {
   "cell_type": "code",
   "execution_count": null,
   "metadata": {
    "colab": {
     "base_uri": "https://localhost:8080/"
    },
    "id": "E8GwUeoFpfDL",
    "outputId": "fac43ea4-cc85-471b-a362-e994b06fd583"
   },
   "outputs": [],
   "source": [
    "print(command)"
   ]
  },
  {
   "cell_type": "code",
   "execution_count": null,
   "metadata": {
    "colab": {
     "base_uri": "https://localhost:8080/"
    },
    "id": "Nbd7gqHMpfDL",
    "outputId": "7c8fe6d5-2415-4641-8548-39d425c202f7"
   },
   "outputs": [],
   "source": [
    "!{command}"
   ]
  },
  {
   "cell_type": "markdown",
   "metadata": {
    "id": "5NQqZRdA21Uc"
   },
   "source": [
    "# 13. Zip and Export Models "
   ]
  },
  {
   "cell_type": "code",
   "execution_count": null,
   "metadata": {
    "id": "tTVTGCQp2ZJJ"
   },
   "outputs": [],
   "source": [
    "!tar -czf models.tar.gz {paths['CHECKPOINT_PATH']}"
   ]
  },
  {
   "cell_type": "code",
   "execution_count": null,
   "metadata": {
    "colab": {
     "base_uri": "https://localhost:8080/"
    },
    "id": "whShhB0x3PYJ",
    "outputId": "b773201d-35c9-46a8-b893-4a76bd4d5d97"
   },
   "outputs": [],
   "source": [
    "from google.colab import drive\n",
    "drive.mount('/content/drive')"
   ]
  }
 ],
 "metadata": {
  "accelerator": "GPU",
  "colab": {
   "name": "3. Training and Detection.ipynb",
   "provenance": []
  },
  "kernelspec": {
   "display_name": "tfod",
   "language": "python",
   "name": "tfod"
  },
  "language_info": {
   "codemirror_mode": {
    "name": "ipython",
    "version": 3
   },
   "file_extension": ".py",
   "mimetype": "text/x-python",
   "name": "python",
   "nbconvert_exporter": "python",
   "pygments_lexer": "ipython3",
   "version": "3.8.6"
  }
 },
 "nbformat": 4,
 "nbformat_minor": 1
}
